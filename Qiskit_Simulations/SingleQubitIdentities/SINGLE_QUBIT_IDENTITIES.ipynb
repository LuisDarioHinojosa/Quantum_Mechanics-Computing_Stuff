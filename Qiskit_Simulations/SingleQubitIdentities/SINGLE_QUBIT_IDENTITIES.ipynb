{
  "nbformat": 4,
  "nbformat_minor": 0,
  "metadata": {
    "colab": {
      "provenance": []
    },
    "kernelspec": {
      "name": "python3",
      "display_name": "Python 3"
    },
    "language_info": {
      "name": "python"
    }
  },
  "cells": [
    {
      "cell_type": "code",
      "execution_count": null,
      "metadata": {
        "colab": {
          "base_uri": "https://localhost:8080/"
        },
        "id": "JUt_6j7rPPO8",
        "outputId": "76fbb90c-5938-4df8-e93d-2d732ea51a07"
      },
      "outputs": [
        {
          "output_type": "stream",
          "name": "stdout",
          "text": [
            "Looking in indexes: https://pypi.org/simple, https://us-python.pkg.dev/colab-wheels/public/simple/\n",
            "Requirement already satisfied: qiskit in /usr/local/lib/python3.8/dist-packages (0.39.4)\n",
            "Requirement already satisfied: qiskit-ibmq-provider==0.19.2 in /usr/local/lib/python3.8/dist-packages (from qiskit) (0.19.2)\n",
            "Requirement already satisfied: qiskit-terra==0.22.3 in /usr/local/lib/python3.8/dist-packages (from qiskit) (0.22.3)\n",
            "Requirement already satisfied: qiskit-aer==0.11.2 in /usr/local/lib/python3.8/dist-packages (from qiskit) (0.11.2)\n",
            "Requirement already satisfied: numpy>=1.16.3 in /usr/local/lib/python3.8/dist-packages (from qiskit-aer==0.11.2->qiskit) (1.21.6)\n",
            "Requirement already satisfied: scipy>=1.0 in /usr/local/lib/python3.8/dist-packages (from qiskit-aer==0.11.2->qiskit) (1.7.3)\n",
            "Requirement already satisfied: urllib3>=1.21.1 in /usr/local/lib/python3.8/dist-packages (from qiskit-ibmq-provider==0.19.2->qiskit) (1.24.3)\n",
            "Requirement already satisfied: requests>=2.19 in /usr/local/lib/python3.8/dist-packages (from qiskit-ibmq-provider==0.19.2->qiskit) (2.23.0)\n",
            "Requirement already satisfied: requests-ntlm>=1.1.0 in /usr/local/lib/python3.8/dist-packages (from qiskit-ibmq-provider==0.19.2->qiskit) (1.1.0)\n",
            "Requirement already satisfied: websocket-client>=1.0.1 in /usr/local/lib/python3.8/dist-packages (from qiskit-ibmq-provider==0.19.2->qiskit) (1.4.2)\n",
            "Requirement already satisfied: python-dateutil>=2.8.0 in /usr/local/lib/python3.8/dist-packages (from qiskit-ibmq-provider==0.19.2->qiskit) (2.8.2)\n",
            "Requirement already satisfied: websockets>=10.0 in /usr/local/lib/python3.8/dist-packages (from qiskit-ibmq-provider==0.19.2->qiskit) (10.4)\n",
            "Requirement already satisfied: dill>=0.3 in /usr/local/lib/python3.8/dist-packages (from qiskit-terra==0.22.3->qiskit) (0.3.6)\n",
            "Requirement already satisfied: psutil>=5 in /usr/local/lib/python3.8/dist-packages (from qiskit-terra==0.22.3->qiskit) (5.4.8)\n",
            "Requirement already satisfied: retworkx>=0.11.0 in /usr/local/lib/python3.8/dist-packages (from qiskit-terra==0.22.3->qiskit) (0.12.1)\n",
            "Requirement already satisfied: stevedore>=3.0.0 in /usr/local/lib/python3.8/dist-packages (from qiskit-terra==0.22.3->qiskit) (4.1.1)\n",
            "Requirement already satisfied: sympy>=1.3 in /usr/local/lib/python3.8/dist-packages (from qiskit-terra==0.22.3->qiskit) (1.7.1)\n",
            "Requirement already satisfied: symengine>=0.9 in /usr/local/lib/python3.8/dist-packages (from qiskit-terra==0.22.3->qiskit) (0.9.2)\n",
            "Requirement already satisfied: tweedledum<2.0,>=1.1 in /usr/local/lib/python3.8/dist-packages (from qiskit-terra==0.22.3->qiskit) (1.1.1)\n",
            "Requirement already satisfied: ply>=3.10 in /usr/local/lib/python3.8/dist-packages (from qiskit-terra==0.22.3->qiskit) (3.11)\n",
            "Requirement already satisfied: six>=1.5 in /usr/local/lib/python3.8/dist-packages (from python-dateutil>=2.8.0->qiskit-ibmq-provider==0.19.2->qiskit) (1.15.0)\n",
            "Requirement already satisfied: certifi>=2017.4.17 in /usr/local/lib/python3.8/dist-packages (from requests>=2.19->qiskit-ibmq-provider==0.19.2->qiskit) (2022.9.24)\n",
            "Requirement already satisfied: idna<3,>=2.5 in /usr/local/lib/python3.8/dist-packages (from requests>=2.19->qiskit-ibmq-provider==0.19.2->qiskit) (2.10)\n",
            "Requirement already satisfied: chardet<4,>=3.0.2 in /usr/local/lib/python3.8/dist-packages (from requests>=2.19->qiskit-ibmq-provider==0.19.2->qiskit) (3.0.4)\n",
            "Requirement already satisfied: ntlm-auth>=1.0.2 in /usr/local/lib/python3.8/dist-packages (from requests-ntlm>=1.1.0->qiskit-ibmq-provider==0.19.2->qiskit) (1.5.0)\n",
            "Requirement already satisfied: cryptography>=1.3 in /usr/local/lib/python3.8/dist-packages (from requests-ntlm>=1.1.0->qiskit-ibmq-provider==0.19.2->qiskit) (38.0.4)\n",
            "Requirement already satisfied: cffi>=1.12 in /usr/local/lib/python3.8/dist-packages (from cryptography>=1.3->requests-ntlm>=1.1.0->qiskit-ibmq-provider==0.19.2->qiskit) (1.15.1)\n",
            "Requirement already satisfied: pycparser in /usr/local/lib/python3.8/dist-packages (from cffi>=1.12->cryptography>=1.3->requests-ntlm>=1.1.0->qiskit-ibmq-provider==0.19.2->qiskit) (2.21)\n",
            "Requirement already satisfied: rustworkx==0.12.1 in /usr/local/lib/python3.8/dist-packages (from retworkx>=0.11.0->qiskit-terra==0.22.3->qiskit) (0.12.1)\n",
            "Requirement already satisfied: pbr!=2.1.0,>=2.0.0 in /usr/local/lib/python3.8/dist-packages (from stevedore>=3.0.0->qiskit-terra==0.22.3->qiskit) (5.11.0)\n",
            "Requirement already satisfied: mpmath>=0.19 in /usr/local/lib/python3.8/dist-packages (from sympy>=1.3->qiskit-terra==0.22.3->qiskit) (1.2.1)\n",
            "Looking in indexes: https://pypi.org/simple, https://us-python.pkg.dev/colab-wheels/public/simple/\n",
            "Requirement already satisfied: pylatexenc in /usr/local/lib/python3.8/dist-packages (2.10)\n"
          ]
        }
      ],
      "source": [
        "! pip install qiskit\n",
        "! pip install pylatexenc"
      ]
    },
    {
      "cell_type": "code",
      "source": [
        "from qiskit import QuantumCircuit, QuantumRegister, ClassicalRegister\n",
        "from qiskit.quantum_info import Statevector"
      ],
      "metadata": {
        "id": "HCesr4lTPr8e"
      },
      "execution_count": null,
      "outputs": []
    },
    {
      "cell_type": "code",
      "source": [
        "# create two quantum circuits\n",
        "q = QuantumRegister(1)\n",
        "qc0 = QuantumCircuit(q)\n",
        "qc1 = QuantumCircuit(q)"
      ],
      "metadata": {
        "id": "8STBiiMcQSty"
      },
      "execution_count": null,
      "outputs": []
    },
    {
      "cell_type": "markdown",
      "source": [
        "# Pauli's Identities: "
      ],
      "metadata": {
        "id": "knnfEDQxQyRJ"
      }
    },
    {
      "cell_type": "code",
      "source": [
        "# apply n pauli gates in the quantum circuit 0\n",
        "n = 3\n",
        "for i in range(n):\n",
        "  qc0.y(q[0])"
      ],
      "metadata": {
        "id": "GK19VxvCQkw-"
      },
      "execution_count": null,
      "outputs": []
    },
    {
      "cell_type": "code",
      "source": [
        "display(qc0.draw(\"mpl\"),qc1.draw(\"mpl\"))"
      ],
      "metadata": {
        "colab": {
          "base_uri": "https://localhost:8080/",
          "height": 173
        },
        "id": "EYXUzi23Wm1s",
        "outputId": "76890a89-3443-42ba-9ec1-418cfc309bd5"
      },
      "execution_count": null,
      "outputs": [
        {
          "output_type": "display_data",
          "data": {
            "text/plain": [
              "<Figure size 267.052x84.28 with 1 Axes>"
            ],
            "image/png": "[encoded data removed]"
          },
          "metadata": {}
        },
        {
          "output_type": "display_data",
          "data": {
            "text/plain": [
              "<Figure size 116.552x84.28 with 1 Axes>"
            ],
            "image/png": "[encoded data removed]"
          },
          "metadata": {}
        }
      ]
    },
    {
      "cell_type": "markdown",
      "source": [
        "## States:"
      ],
      "metadata": {
        "id": "D1BnHk6j4ISe"
      }
    },
    {
      "cell_type": "code",
      "source": [
        "psi_0 = Statevector(qc0)\n",
        "psi_1 = Statevector(qc1)"
      ],
      "metadata": {
        "id": "4qrMwIkb4FVc"
      },
      "execution_count": null,
      "outputs": []
    },
    {
      "cell_type": "code",
      "source": [
        "display(psi_0.draw(\"latex\"),psi_1.draw(\"latex\"))"
      ],
      "metadata": {
        "colab": {
          "base_uri": "https://localhost:8080/",
          "height": 59
        },
        "id": "EeKk46014cJ7",
        "outputId": "87e5d57e-0974-4784-ed31-19ae178277af"
      },
      "execution_count": null,
      "outputs": [
        {
          "output_type": "display_data",
          "data": {
            "text/plain": [
              "<IPython.core.display.Latex object>"
            ],
            "text/latex": "$$i |1\\rangle$$"
          },
          "metadata": {}
        },
        {
          "output_type": "display_data",
          "data": {
            "text/plain": [
              "<IPython.core.display.Latex object>"
            ],
            "text/latex": "$$ |0\\rangle$$"
          },
          "metadata": {}
        }
      ]
    },
    {
      "cell_type": "code",
      "source": [
        "# reset the circuit for the next experiment:\n",
        "qc0.reset(q[0])\n",
        "qc1.reset(q[0])\n",
        "display(qc0.draw(\"mpl\"),qc1.draw(\"mpl\"))"
      ],
      "metadata": {
        "colab": {
          "base_uri": "https://localhost:8080/",
          "height": 173
        },
        "id": "mkyD4sW15VbG",
        "outputId": "98277f88-14c8-4e8e-f67b-4cba3e6b78ab"
      },
      "execution_count": null,
      "outputs": [
        {
          "output_type": "display_data",
          "data": {
            "text/plain": [
              "<Figure size 327.252x84.28 with 1 Axes>"
            ],
            "image/png": "[encoded data removed]"
          },
          "metadata": {}
        },
        {
          "output_type": "display_data",
          "data": {
            "text/plain": [
              "<Figure size 146.652x84.28 with 1 Axes>"
            ],
            "image/png": "[encoded data removed]"
          },
          "metadata": {}
        }
      ]
    },
    {
      "cell_type": "markdown",
      "source": [
        "# Cyclic Pauli Gates Experiment:\n",
        "ZX → iY"
      ],
      "metadata": {
        "id": "1gClgnJF6oWa"
      }
    },
    {
      "cell_type": "code",
      "source": [
        "# apply cycle to first quantum circuit\n",
        "qc0.z(q[0])\n",
        "qc0.x(q[0])\n",
        "# apply y to sencond quantum circuit\n",
        "qc1.y(q[0])"
      ],
      "metadata": {
        "id": "ASvKEWGb6n9L",
        "colab": {
          "base_uri": "https://localhost:8080/"
        },
        "outputId": "aba9eb9b-4803-48e1-ce0e-7b398fdf24a8"
      },
      "execution_count": null,
      "outputs": [
        {
          "output_type": "execute_result",
          "data": {
            "text/plain": [
              "<qiskit.circuit.instructionset.InstructionSet at 0x7f8563f1c520>"
            ]
          },
          "metadata": {},
          "execution_count": 31
        }
      ]
    },
    {
      "cell_type": "code",
      "source": [
        "display(qc0.draw(\"mpl\"),qc1.draw(\"mpl\"))"
      ],
      "metadata": {
        "colab": {
          "base_uri": "https://localhost:8080/",
          "height": 173
        },
        "id": "Jo0ccu788uX5",
        "outputId": "34fa54d6-44c7-4ade-ef98-7371fbcfd813"
      },
      "execution_count": null,
      "outputs": [
        {
          "output_type": "display_data",
          "data": {
            "text/plain": [
              "<Figure size 447.652x84.28 with 1 Axes>"
            ],
            "image/png": "[encoded data removed]"
          },
          "metadata": {}
        },
        {
          "output_type": "display_data",
          "data": {
            "text/plain": [
              "<Figure size 206.852x84.28 with 1 Axes>"
            ],
            "image/png": "[encoded data removed]"
          },
          "metadata": {}
        }
      ]
    },
    {
      "cell_type": "code",
      "source": [
        "psi_0 = Statevector(qc0)\n",
        "psi_1 = Statevector(qc1)"
      ],
      "metadata": {
        "id": "8gA5gHdo70ab"
      },
      "execution_count": null,
      "outputs": []
    },
    {
      "cell_type": "code",
      "source": [
        "display(psi_0.draw(\"latex\"),psi_1.draw(\"latex\"))"
      ],
      "metadata": {
        "colab": {
          "base_uri": "https://localhost:8080/",
          "height": 61
        },
        "id": "sGrTfe4d720n",
        "outputId": "78bcc5a9-9469-429f-8135-2bf74dc37b08"
      },
      "execution_count": null,
      "outputs": [
        {
          "output_type": "display_data",
          "data": {
            "text/plain": [
              "<IPython.core.display.Latex object>"
            ],
            "text/latex": "$$i |1\\rangle$$"
          },
          "metadata": {}
        },
        {
          "output_type": "display_data",
          "data": {
            "text/plain": [
              "<IPython.core.display.Latex object>"
            ],
            "text/latex": "$$i |1\\rangle$$"
          },
          "metadata": {}
        }
      ]
    },
    {
      "cell_type": "code",
      "source": [
        "# reset the circuit for the next experiment:\n",
        "qc0.reset(q[0])\n",
        "qc1.reset(q[0])\n",
        "display(qc0.draw(\"mpl\"),qc1.draw(\"mpl\"))"
      ],
      "metadata": {
        "colab": {
          "base_uri": "https://localhost:8080/",
          "height": 173
        },
        "id": "QmmwLG3v9PkA",
        "outputId": "f8e4cdfb-2d21-4e5f-ebb8-9accb24c50de"
      },
      "execution_count": null,
      "outputs": [
        {
          "output_type": "display_data",
          "data": {
            "text/plain": [
              "<Figure size 507.852x84.28 with 1 Axes>"
            ],
            "image/png": "[encoded data removed]"
          },
          "metadata": {}
        },
        {
          "output_type": "display_data",
          "data": {
            "text/plain": [
              "<Figure size 267.052x84.28 with 1 Axes>"
            ],
            "image/png": "[encoded data removed]"
          },
          "metadata": {}
        }
      ]
    },
    {
      "cell_type": "markdown",
      "source": [
        "# Hadamard Identity:"
      ],
      "metadata": {
        "id": "NDYJBbHR9QIw"
      }
    },
    {
      "cell_type": "code",
      "source": [
        "# hadamard\n",
        "qc0.h(q[0])\n",
        "qc0.z(q[0])\n",
        "qc0.h(q[0])\n",
        "# equivalent\n",
        "qc1.x(q[0])"
      ],
      "metadata": {
        "id": "FPf7J5U0-K8A",
        "colab": {
          "base_uri": "https://localhost:8080/"
        },
        "outputId": "7de4d025-b10e-474b-d510-e79a2325cae6"
      },
      "execution_count": null,
      "outputs": [
        {
          "output_type": "execute_result",
          "data": {
            "text/plain": [
              "<qiskit.circuit.instructionset.InstructionSet at 0x7f8563e347c0>"
            ]
          },
          "metadata": {},
          "execution_count": 36
        }
      ]
    },
    {
      "cell_type": "code",
      "source": [
        "display(qc0.draw(\"mpl\"),qc1.draw(\"mpl\"))"
      ],
      "metadata": {
        "colab": {
          "base_uri": "https://localhost:8080/",
          "height": 173
        },
        "id": "se8gBV3p-i3l",
        "outputId": "66087f90-cdbb-4d76-ce37-c68f785c921c"
      },
      "execution_count": null,
      "outputs": [
        {
          "output_type": "display_data",
          "data": {
            "text/plain": [
              "<Figure size 688.452x84.28 with 1 Axes>"
            ],
            "image/png": "[encoded data removed]"
          },
          "metadata": {}
        },
        {
          "output_type": "display_data",
          "data": {
            "text/plain": [
              "<Figure size 327.252x84.28 with 1 Axes>"
            ],
            "image/png": "[encoded data removed]"
          },
          "metadata": {}
        }
      ]
    },
    {
      "cell_type": "code",
      "source": [
        "psi_0 = Statevector(qc0)\n",
        "psi_1 = Statevector(qc1)"
      ],
      "metadata": {
        "id": "gK51kexN-l2A"
      },
      "execution_count": null,
      "outputs": []
    },
    {
      "cell_type": "code",
      "source": [
        "display(psi_0.draw(\"latex\"),psi_1.draw(\"latex\"))"
      ],
      "metadata": {
        "colab": {
          "base_uri": "https://localhost:8080/",
          "height": 61
        },
        "id": "51Q-khdx-ot2",
        "outputId": "591bfe2d-b2fb-4bb4-99b5-23631a66769a"
      },
      "execution_count": null,
      "outputs": [
        {
          "output_type": "display_data",
          "data": {
            "text/plain": [
              "<IPython.core.display.Latex object>"
            ],
            "text/latex": "$$i |1\\rangle$$"
          },
          "metadata": {}
        },
        {
          "output_type": "display_data",
          "data": {
            "text/plain": [
              "<IPython.core.display.Latex object>"
            ],
            "text/latex": "$$i |1\\rangle$$"
          },
          "metadata": {}
        }
      ]
    },
    {
      "cell_type": "code",
      "source": [
        "# reset the circuit for the next experiment:\n",
        "qc0.reset(q[0])\n",
        "qc1.reset(q[0])\n",
        "display(qc0.draw(\"mpl\"),qc1.draw(\"mpl\"))"
      ],
      "metadata": {
        "colab": {
          "base_uri": "https://localhost:8080/",
          "height": 173
        },
        "id": "hjnHSCBn-1Od",
        "outputId": "a633498a-5cda-4416-f5b6-97eba7249345"
      },
      "execution_count": null,
      "outputs": [
        {
          "output_type": "display_data",
          "data": {
            "text/plain": [
              "<Figure size 748.652x84.28 with 1 Axes>"
            ],
            "image/png": "[encoded data removed]"
          },
          "metadata": {}
        },
        {
          "output_type": "display_data",
          "data": {
            "text/plain": [
              "<Figure size 387.452x84.28 with 1 Axes>"
            ],
            "image/png": "[encoded data removed]"
          },
          "metadata": {}
        }
      ]
    },
    {
      "cell_type": "markdown",
      "source": [
        "# S Identities:"
      ],
      "metadata": {
        "id": "7rhGJX0e-4OD"
      }
    },
    {
      "cell_type": "code",
      "source": [
        "# s combination\n",
        "qc0.sdg(q[0])\n",
        "qc0.x(q[0])\n",
        "qc0.s(q[0])\n",
        "# equivalent\n",
        "qc1.y(q[0])"
      ],
      "metadata": {
        "colab": {
          "base_uri": "https://localhost:8080/"
        },
        "id": "SeyHUK_0_IhB",
        "outputId": "f63446a5-02bf-407e-f290-af3e6a520d0b"
      },
      "execution_count": null,
      "outputs": [
        {
          "output_type": "execute_result",
          "data": {
            "text/plain": [
              "<qiskit.circuit.instructionset.InstructionSet at 0x7f856408b880>"
            ]
          },
          "metadata": {},
          "execution_count": 41
        }
      ]
    },
    {
      "cell_type": "code",
      "source": [
        "display(qc0.draw(\"mpl\"),qc1.draw(\"mpl\"))"
      ],
      "metadata": {
        "colab": {
          "base_uri": "https://localhost:8080/",
          "height": 173
        },
        "id": "u-u7JjKh_N67",
        "outputId": "3a9ab4e8-813f-4158-c5e6-8dcbc0553d35"
      },
      "execution_count": null,
      "outputs": [
        {
          "output_type": "display_data",
          "data": {
            "text/plain": [
              "<Figure size 929.252x84.28 with 1 Axes>"
            ],
            "image/png": "[encoded data removed]"
          },
          "metadata": {}
        },
        {
          "output_type": "display_data",
          "data": {
            "text/plain": [
              "<Figure size 447.652x84.28 with 1 Axes>"
            ],
            "image/png": "[encoded data removed]"
          },
          "metadata": {}
        }
      ]
    },
    {
      "cell_type": "code",
      "source": [
        "psi_0 = Statevector(qc0)\n",
        "psi_1 = Statevector(qc1)"
      ],
      "metadata": {
        "id": "jk3aBNmYALGp"
      },
      "execution_count": null,
      "outputs": []
    },
    {
      "cell_type": "code",
      "source": [
        "display(psi_0.draw(\"latex\"),psi_1.draw(\"latex\"))"
      ],
      "metadata": {
        "id": "SdVfyXMDAPNo",
        "outputId": "ef0c3dbf-c36e-4669-a7dc-4f9d7163f9d5",
        "colab": {
          "base_uri": "https://localhost:8080/",
          "height": 58
        }
      },
      "execution_count": null,
      "outputs": [
        {
          "output_type": "display_data",
          "data": {
            "text/plain": [
              "<IPython.core.display.Latex object>"
            ],
            "text/latex": "$$- |1\\rangle$$"
          },
          "metadata": {}
        },
        {
          "output_type": "display_data",
          "data": {
            "text/plain": [
              "<IPython.core.display.Latex object>"
            ],
            "text/latex": "$$- |1\\rangle$$"
          },
          "metadata": {}
        }
      ]
    }
  ]
}