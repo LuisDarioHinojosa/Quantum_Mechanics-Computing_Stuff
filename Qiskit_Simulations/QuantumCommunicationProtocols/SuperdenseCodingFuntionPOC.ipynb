{
  "nbformat": 4,
  "nbformat_minor": 0,
  "metadata": {
    "colab": {
      "provenance": []
    },
    "kernelspec": {
      "name": "python3",
      "display_name": "Python 3"
    },
    "language_info": {
      "name": "python"
    }
  },
  "cells": [
    {
      "cell_type": "code",
      "source": [
        "try:\n",
        "  print(\"Dependencies are already installed. Skipping...\")\n",
        "  import qiskit\n",
        "  from qiskit import QuantumCircuit, QuantumRegister, ClassicalRegister\n",
        "  from qiskit.visualization import plot_histogram\n",
        "  from qiskit import Aer\n",
        "except:\n",
        "  print(\"Installing Corresponing Dependencies\")\n",
        "  ! pip install -q qiskit pylatexenc qiskit-aer\n",
        "  ! pip install -q git+https://github.com/qiskit-community/qiskit-textbook.git#subdirectory=qiskit-textbook-src\n",
        "  import qiskit\n",
        "  from qiskit import QuantumCircuit, QuantumRegister, ClassicalRegister\n",
        "  from qiskit.visualization import plot_histogram\n",
        "  from qiskit import Aer"
      ],
      "metadata": {
        "colab": {
          "base_uri": "https://localhost:8080/"
        },
        "id": "qHT_YrcJzp_Q",
        "outputId": "2ebdc903-25cf-4161-f038-6a008785433c"
      },
      "execution_count": null,
      "outputs": [
        {
          "output_type": "stream",
          "name": "stdout",
          "text": [
            "Dependencies are already installed. Skipping...\n"
          ]
        }
      ]
    },
    {
      "cell_type": "code",
      "source": [
        "qiskit.__version__"
      ],
      "metadata": {
        "colab": {
          "base_uri": "https://localhost:8080/",
          "height": 35
        },
        "id": "Xh5CmJ2qz-1A",
        "outputId": "b30f96fb-2e7e-4154-b853-8f96fc00534f"
      },
      "execution_count": null,
      "outputs": [
        {
          "output_type": "execute_result",
          "data": {
            "text/plain": [
              "'0.25.0'"
            ],
            "application/vnd.google.colaboratory.intrinsic+json": {
              "type": "string"
            }
          },
          "metadata": {},
          "execution_count": 2
        }
      ]
    },
    {
      "cell_type": "code",
      "source": [
        "!rm -r modules"
      ],
      "metadata": {
        "id": "SxSxpOfT0jBG"
      },
      "execution_count": null,
      "outputs": []
    },
    {
      "cell_type": "code",
      "source": [
        "import requests\n",
        "from pathlib import Path\n",
        "import os\n",
        "\n",
        "directory = Path(\"modules\")\n",
        "\n",
        "if not os.path.exists(directory):\n",
        "  os.makedirs(directory)\n",
        "\n",
        "helper_modules = {\n",
        "    \"quantum_hardware_circuits.py\":\"https://raw.githubusercontent.com/Q-b1t/Quantum_Mechanics-Computing_Stuff/master/modules/quantum_hardware_functions/quantum_hardware_circuits.py\",\n",
        "    \"experiment_utils.py\":\"https://raw.githubusercontent.com/Q-b1t/Quantum_Mechanics-Computing_Stuff/master/modules/utils/experiment_utils.py\",\n",
        "    \"algorithms_utils.py\":\"https://github.com/Q-b1t/Quantum_Mechanics-Computing_Stuff/raw/master/modules/utils/algorithms_utils.py\"\n",
        "    }\n",
        "\n",
        "for module,raw in helper_modules.items():\n",
        "  module_file = directory / module\n",
        "  if(module_file.exists()):\n",
        "    print(f\"Module: {module_file} already exists. Skipping...\")\n",
        "  else:\n",
        "    print(f\"Downloading {module}\")\n",
        "    request = requests.get(raw)\n",
        "    with open(module_file,\"wb\") as f:\n",
        "      f.write(request.content)"
      ],
      "metadata": {
        "colab": {
          "base_uri": "https://localhost:8080/"
        },
        "id": "xd9KEl3B0DVv",
        "outputId": "c6bfce58-57dd-4ecb-e601-d1047438ed38"
      },
      "execution_count": null,
      "outputs": [
        {
          "output_type": "stream",
          "name": "stdout",
          "text": [
            "Downloading quantum_hardware_circuits.py\n",
            "Downloading experiment_utils.py\n",
            "Downloading algorithms_utils.py\n"
          ]
        }
      ]
    },
    {
      "cell_type": "code",
      "source": [
        "from modules.experiment_utils import ideal_qc_simulation,get_target_measurement,initialize_quantum_circuit,reverse_output,make_meaurement\n",
        "from modules.algorithms_utils import *"
      ],
      "metadata": {
        "id": "FOH75QxD0vf-"
      },
      "execution_count": null,
      "outputs": []
    },
    {
      "cell_type": "code",
      "source": [
        "backend = Aer.get_backend('statevector_simulator')"
      ],
      "metadata": {
        "id": "_varDB3xxpHM"
      },
      "execution_count": null,
      "outputs": []
    },
    {
      "cell_type": "code",
      "source": [
        "sequence = '11'"
      ],
      "metadata": {
        "id": "yxUy0ksH1yer"
      },
      "execution_count": null,
      "outputs": []
    },
    {
      "cell_type": "code",
      "source": [
        "qc = QuantumCircuit(len(sequence))\n"
      ],
      "metadata": {
        "id": "7JY_sPa_5ABl"
      },
      "execution_count": null,
      "outputs": []
    },
    {
      "cell_type": "code",
      "source": [
        "qc = superdense_coding(sequence)"
      ],
      "metadata": {
        "id": "yttHH-Pr13kO"
      },
      "execution_count": null,
      "outputs": []
    },
    {
      "cell_type": "code",
      "source": [
        "qc.draw(\"mpl\")"
      ],
      "metadata": {
        "colab": {
          "base_uri": "https://localhost:8080/",
          "height": 255
        },
        "id": "rVivDvTC2xzw",
        "outputId": "3fe16801-ac8c-47a7-a5c8-ee19392be4cb"
      },
      "execution_count": null,
      "outputs": [
        {
          "output_type": "execute_result",
          "data": {
            "text/plain": [
              "<Figure size 1057.82x284.278 with 1 Axes>"
            ],
            "image/png": "[encoded data removed]"
          },
          "metadata": {},
          "execution_count": 10
        }
      ]
    },
    {
      "cell_type": "code",
      "source": [
        "counts = ideal_qc_simulation(qc,backend)"
      ],
      "metadata": {
        "id": "xgnossVI6lDo"
      },
      "execution_count": null,
      "outputs": []
    },
    {
      "cell_type": "code",
      "source": [
        "plot_histogram(counts)"
      ],
      "metadata": {
        "colab": {
          "base_uri": "https://localhost:8080/",
          "height": 461
        },
        "id": "uDXinhkR6qoV",
        "outputId": "fbfad166-a76c-45f5-d628-3c51a08c5c9e"
      },
      "execution_count": null,
      "outputs": [
        {
          "output_type": "execute_result",
          "data": {
            "text/plain": [
              "<Figure size 700x500 with 1 Axes>"
            ],
            "image/png": "[encoded data removed]"
          },
          "metadata": {},
          "execution_count": 12
        }
      ]
    }
  ]
}