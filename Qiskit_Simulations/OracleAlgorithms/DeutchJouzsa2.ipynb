{
  "nbformat": 4,
  "nbformat_minor": 0,
  "metadata": {
    "colab": {
      "provenance": []
    },
    "kernelspec": {
      "name": "python3",
      "display_name": "Python 3"
    },
    "language_info": {
      "name": "python"
    }
  },
  "cells": [
    {
      "cell_type": "code",
      "execution_count": 1,
      "metadata": {
        "colab": {
          "base_uri": "https://localhost:8080/"
        },
        "id": "eYNXrR78xltr",
        "outputId": "b26b341c-cebb-430d-a6f2-8bf8d745be1b"
      },
      "outputs": [
        {
          "output_type": "stream",
          "name": "stdout",
          "text": [
            "Dependencies are already installed. Skipping...\n"
          ]
        }
      ],
      "source": [
        "try:\n",
        "  print(\"Dependencies are already installed. Skipping...\")\n",
        "  from qiskit import QuantumCircuit, QuantumRegister, ClassicalRegister\n",
        "  from qiskit.visualization import plot_bloch_multivector, plot_histogram\n",
        "  from qiskit.providers.aer import QasmSimulator\n",
        "  from qiskit import execute,Aer\n",
        "  import math\n",
        "  from qiskit import transpile\n",
        "  import random\n",
        "except:\n",
        "  print(\"Installing Corresponing Dependencies\")\n",
        "  ! pip install -q qiskit pylatexenc\n",
        "  from qiskit import QuantumCircuit, QuantumRegister, ClassicalRegister\n",
        "  from qiskit.visualization import plot_bloch_multivector, plot_histogram\n",
        "  from qiskit.providers.aer import QasmSimulator\n",
        "  from qiskit import execute,Aer\n",
        "  import math\n",
        "  from qiskit import transpile\n",
        "  import random"
      ]
    },
    {
      "cell_type": "code",
      "source": [
        "!rm -r modules"
      ],
      "metadata": {
        "id": "d9wd_6LjI8OC"
      },
      "execution_count": 2,
      "outputs": []
    },
    {
      "cell_type": "code",
      "source": [
        "# import modules\n",
        "import requests\n",
        "from pathlib import Path\n",
        "import os\n",
        "\n",
        "directory = Path(\"modules\")\n",
        "\n",
        "if not os.path.exists(directory):\n",
        "  os.makedirs(directory)\n",
        "\n",
        "helper_modules = {\n",
        "    \"quantum_hardware_circuits.py\":\"https://raw.githubusercontent.com/Q-b1t/Quantum_Mechanics-Computing_Stuff/master/modules/quantum_hardware_functions/quantum_hardware_circuits.py\",\n",
        "    \"experiment_utils.py\":\"https://raw.githubusercontent.com/Q-b1t/Quantum_Mechanics-Computing_Stuff/master/modules/utils/experiment_utils.py\",\n",
        "    \"algorithms_utils.py\":\"https://github.com/Q-b1t/Quantum_Mechanics-Computing_Stuff/raw/master/modules/utils/algorithms_utils.py\"\n",
        "    }\n",
        "\n",
        "for module,raw in helper_modules.items():\n",
        "  module_file = directory / module\n",
        "  if(module_file.exists()):\n",
        "    print(f\"Module: {module_file} already exists. Skipping...\")\n",
        "  else:\n",
        "    print(f\"Downloading {module}\")\n",
        "    request = requests.get(raw)\n",
        "    with open(module_file,\"wb\") as f:\n",
        "      f.write(request.content)"
      ],
      "metadata": {
        "colab": {
          "base_uri": "https://localhost:8080/"
        },
        "id": "r7BlJhLbI9qB",
        "outputId": "6196e35b-710b-4688-847b-fcd94f27e6b6"
      },
      "execution_count": 3,
      "outputs": [
        {
          "output_type": "stream",
          "name": "stdout",
          "text": [
            "Downloading quantum_hardware_circuits.py\n",
            "Downloading experiment_utils.py\n",
            "Downloading algorithms_utils.py\n"
          ]
        }
      ]
    },
    {
      "cell_type": "code",
      "source": [
        "from modules.experiment_utils import ideal_qc_simulation,get_target_measurement,initialize_quantum_circuit,reverse_output,make_meaurement\n",
        "from modules.algorithms_utils import *"
      ],
      "metadata": {
        "id": "q_kJD-CKJDqO"
      },
      "execution_count": 4,
      "outputs": []
    },
    {
      "cell_type": "markdown",
      "source": [
        "#  Deutsch Jozsa\n",
        "All the algorithm's quantum circuit is built from scratch inside the function. It will be asummed the rest of my auxiliary dependencies are already imported for my final script."
      ],
      "metadata": {
        "id": "knZb6uJzJGsp"
      }
    },
    {
      "cell_type": "code",
      "source": [
        "def deutch_jozsa(qc,initialize_jozsa = True):\n",
        "  \"\"\"\n",
        "  The function receibes a quantum circuit as parameter and implements the deutch josza algorithm.\n",
        "  ***THE CIRCUIT MUST ME EMPTY***\n",
        "  qc: quantum circuit instance\n",
        "  initialize_jozsa: If set to true, the function assumes the qubits have not been initialized yet.\n",
        "  \"\"\"\n",
        "  assert len(qc.qubits) == 2,\"The quantum circuit must have only two qubits.\"\n",
        "  num_qubits = len(qc.qubits)\n",
        "  if initialize_jozsa:\n",
        "    # initialize the quantum circuit\n",
        "    initialize_quantum_circuit(qc,target_qubits = [1],hadamard=False)\n",
        "    qc.barrier()\n",
        "  # apply the initial hadamard gates\n",
        "  for i in range(num_qubits):\n",
        "    qc.h(i)\n",
        "  qc.barrier()\n",
        "  # fetch a random oracle\n",
        "  oracle = random.randint(0,num_qubits+1)\n",
        "  # instance a circuit to hold the oracle gate\n",
        "  oracle_gate = QuantumCircuit(num_qubits)\n",
        "  # create the corresponding function depending on whether the fase kickback is odd or even\n",
        "  if(oracle == 0): # f_0(x) = 0\n",
        "    pass\n",
        "  elif(oracle == 1): # f(x) = x\n",
        "    oracle_gate.cx(0,1)\n",
        "  elif(oracle == 2): # f(x) = 1\n",
        "    oracle_gate.cx(0,1)\n",
        "    oracle_gate.x(0)\n",
        "    oracle_gate.cx(0,1)\n",
        "  else: # f(x) = x + 1\n",
        "    oracle_gate.x(0)\n",
        "    oracle_gate.cx(0,1)\n",
        "\n",
        "  # transform the circuit into a quantum gate\n",
        "  gate = oracle_gate.to_gate(label = \"Oracle\")\n",
        "  qc.append(gate,[0,1])\n",
        "  qc.barrier()\n",
        "\n",
        "  # apply the initial hadamard gates\n",
        "  for i in range(num_qubits):\n",
        "    qc.h(i)\n",
        "  qc.barrier()\n",
        "  # make a quantum measurement\n",
        "  for i in range(num_qubits):\n",
        "    qc.measure(i,i)\n",
        "  return qc\n",
        "\n",
        ""
      ],
      "metadata": {
        "id": "sydPLkteJjd9"
      },
      "execution_count": 5,
      "outputs": []
    },
    {
      "cell_type": "code",
      "source": [
        "# seed for replication/experimentation\n",
        "random.seed(23423)"
      ],
      "metadata": {
        "id": "zNi_Ljx8S4IK"
      },
      "execution_count": 6,
      "outputs": []
    },
    {
      "cell_type": "code",
      "source": [
        "qr = QuantumRegister(2)\n",
        "cr = ClassicalRegister(2)\n",
        "qc = QuantumCircuit(qr,cr)\n"
      ],
      "metadata": {
        "id": "4ngT3BMmJGYt"
      },
      "execution_count": 7,
      "outputs": []
    },
    {
      "cell_type": "code",
      "source": [
        "qc.x(0)"
      ],
      "metadata": {
        "colab": {
          "base_uri": "https://localhost:8080/"
        },
        "id": "GhXpQQjgVITM",
        "outputId": "7a3db1a9-6102-4642-de06-8838d704bb22"
      },
      "execution_count": 8,
      "outputs": [
        {
          "output_type": "execute_result",
          "data": {
            "text/plain": [
              "<qiskit.circuit.instructionset.InstructionSet at 0x7f84dc063490>"
            ]
          },
          "metadata": {},
          "execution_count": 8
        }
      ]
    },
    {
      "cell_type": "code",
      "source": [
        "qc = deutch_jozsa(qc)"
      ],
      "metadata": {
        "id": "JOqElH4ERRm-"
      },
      "execution_count": 9,
      "outputs": []
    },
    {
      "cell_type": "code",
      "source": [
        "qc.decompose().draw(\"mpl\")"
      ],
      "metadata": {
        "colab": {
          "base_uri": "https://localhost:8080/",
          "height": 255
        },
        "id": "7mG8JIE1RsQd",
        "outputId": "873c8aa7-668b-48ab-aa9b-065cae6d309f"
      },
      "execution_count": 10,
      "outputs": [
        {
          "output_type": "execute_result",
          "data": {
            "text/plain": [
              "<Figure size 974.212x284.278 with 1 Axes>"
            ],
            "image/png": "[encoded data removed]"
          },
          "metadata": {},
          "execution_count": 10
        }
      ]
    },
    {
      "cell_type": "code",
      "source": [
        "backend = Aer.get_backend('statevector_simulator')"
      ],
      "metadata": {
        "id": "3eKc2Q_0TJIS"
      },
      "execution_count": 11,
      "outputs": []
    },
    {
      "cell_type": "code",
      "source": [
        "counts = ideal_qc_simulation(qc,backend,num_measurements = 1)"
      ],
      "metadata": {
        "id": "zWnM-PHaUc3S"
      },
      "execution_count": 12,
      "outputs": []
    },
    {
      "cell_type": "code",
      "source": [
        "counts"
      ],
      "metadata": {
        "colab": {
          "base_uri": "https://localhost:8080/"
        },
        "id": "CIgTTlfBUoVI",
        "outputId": "71123f3d-f655-44d7-a173-8672fae52527"
      },
      "execution_count": 13,
      "outputs": [
        {
          "output_type": "execute_result",
          "data": {
            "text/plain": [
              "{'10': 1}"
            ]
          },
          "metadata": {},
          "execution_count": 13
        }
      ]
    }
  ]
}