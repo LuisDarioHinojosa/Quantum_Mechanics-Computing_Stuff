{
  "nbformat": 4,
  "nbformat_minor": 0,
  "metadata": {
    "colab": {
      "provenance": []
    },
    "kernelspec": {
      "name": "python3",
      "display_name": "Python 3"
    },
    "language_info": {
      "name": "python"
    }
  },
  "cells": [
    {
      "cell_type": "code",
      "execution_count": 1,
      "metadata": {
        "colab": {
          "base_uri": "https://localhost:8080/"
        },
        "id": "6e9PZUlr3sKV",
        "outputId": "e889574c-fce6-488b-b9a4-4fa3649cd8ab"
      },
      "outputs": [
        {
          "output_type": "stream",
          "name": "stdout",
          "text": [
            "Dependencies are already installed. Skipping...\n"
          ]
        }
      ],
      "source": [
        "try:\n",
        "  print(\"Dependencies are already installed. Skipping...\")\n",
        "  from qiskit import QuantumCircuit, QuantumRegister, ClassicalRegister\n",
        "  from qiskit.visualization import plot_bloch_multivector, plot_histogram\n",
        "  from qiskit.providers.aer import QasmSimulator\n",
        "  from qiskit import execute,Aer\n",
        "  import math\n",
        "  from qiskit import transpile\n",
        "except:\n",
        "  print(\"Installing Corresponing Dependencies\")\n",
        "  ! pip install qiskit\n",
        "  ! pip install pylatexenc\n",
        "  from qiskit import QuantumCircuit, QuantumRegister, ClassicalRegister\n",
        "  from qiskit.visualization import plot_bloch_multivector, plot_histogram\n",
        "  from qiskit.providers.aer import QasmSimulator\n",
        "  from qiskit import execute,Aer\n",
        "  import math\n",
        "  from qiskit import transpile"
      ]
    },
    {
      "cell_type": "code",
      "source": [
        "# fetch backend\n",
        "backend = Aer.get_backend('statevector_simulator')"
      ],
      "metadata": {
        "id": "Cdu4tfa74kVV"
      },
      "execution_count": 2,
      "outputs": []
    },
    {
      "cell_type": "code",
      "source": [
        "!rm -r modules"
      ],
      "metadata": {
        "id": "_i8vyHts4iQZ"
      },
      "execution_count": 3,
      "outputs": []
    },
    {
      "cell_type": "code",
      "source": [
        "# import modules\n",
        "import requests\n",
        "from pathlib import Path\n",
        "import os\n",
        "\n",
        "\n",
        "directory = Path(\"modules\")\n",
        "\n",
        "if not os.path.exists(directory):\n",
        "  os.makedirs(directory)\n",
        "  \n",
        "helper_modules = {\n",
        "    \"quantum_hardware_circuits.py\":\"https://raw.githubusercontent.com/Q-b1t/Quantum_Mechanics-Computing_Stuff/master/modules/quantum_hardware_functions/quantum_hardware_circuits.py\",\n",
        "    \"experiment_utils.py\":\"https://raw.githubusercontent.com/Q-b1t/Quantum_Mechanics-Computing_Stuff/master/modules/utils/experiment_utils.py\"\n",
        "    }\n",
        "\n",
        "for module,raw in helper_modules.items():\n",
        "  module_file = directory / module\n",
        "  if(module_file.exists()):\n",
        "    print(f\"Module: {module_file} already exists. Skipping...\")\n",
        "  else:\n",
        "    print(f\"Downloading {module}\")\n",
        "    request = requests.get(raw)\n",
        "    with open(module_file,\"wb\") as f:\n",
        "      f.write(request.content)\n",
        "     "
      ],
      "metadata": {
        "colab": {
          "base_uri": "https://localhost:8080/"
        },
        "id": "wmkroE6q4xPq",
        "outputId": "5f67112f-6b20-4d0c-e40e-efffbb0a4e3d"
      },
      "execution_count": 4,
      "outputs": [
        {
          "output_type": "stream",
          "name": "stdout",
          "text": [
            "Downloading quantum_hardware_circuits.py\n",
            "Downloading experiment_utils.py\n"
          ]
        }
      ]
    },
    {
      "cell_type": "code",
      "source": [
        "from modules.experiment_utils import ideal_qc_simulation,get_target_measurement,initialize_quantum_circuit,reverse_output,make_meaurement"
      ],
      "metadata": {
        "id": "97s7dlaW5NF4"
      },
      "execution_count": 5,
      "outputs": []
    },
    {
      "cell_type": "markdown",
      "source": [
        "# Quantum Shifters"
      ],
      "metadata": {
        "id": "dYed5_kp7Hqw"
      }
    },
    {
      "cell_type": "code",
      "source": [
        "QUBIT_NUM = 6\n",
        "MEASUREMENT_NUM = 4"
      ],
      "metadata": {
        "id": "wPBcMeKE8gW_"
      },
      "execution_count": 6,
      "outputs": []
    },
    {
      "cell_type": "markdown",
      "source": [
        "## Right Shifter"
      ],
      "metadata": {
        "id": "uJmZEaUo7POj"
      }
    },
    {
      "cell_type": "code",
      "source": [
        "qr = QuantumRegister(QUBIT_NUM)\n",
        "cr = ClassicalRegister(MEASUREMENT_NUM)\n",
        "qc = QuantumCircuit(qr,cr)"
      ],
      "metadata": {
        "id": "nJ9s6Vqe7G53"
      },
      "execution_count": 7,
      "outputs": []
    },
    {
      "cell_type": "code",
      "source": [
        "# initialize the quantum circuit \n",
        "target_qubits = [0,2,4]\n",
        "initialize_quantum_circuit(qc,target_qubits)"
      ],
      "metadata": {
        "id": "g8jvAvz8-mSY"
      },
      "execution_count": 8,
      "outputs": []
    },
    {
      "cell_type": "code",
      "source": [
        "qc.barrier()"
      ],
      "metadata": {
        "colab": {
          "base_uri": "https://localhost:8080/"
        },
        "id": "3qMmPXqV_klv",
        "outputId": "de118748-d9d9-41aa-d41b-00980fc7f662"
      },
      "execution_count": 9,
      "outputs": [
        {
          "output_type": "execute_result",
          "data": {
            "text/plain": [
              "<qiskit.circuit.instructionset.InstructionSet at 0x7fe630c978e0>"
            ]
          },
          "metadata": {},
          "execution_count": 9
        }
      ]
    },
    {
      "cell_type": "code",
      "source": [
        "# implement quantum circuit\n",
        "qc.cswap(qr[0],qr[1],qr[2])\n",
        "qc.cswap(qr[0],qr[2],qr[3])\n",
        "qc.cswap(qr[0],qr[3],qr[4])\n",
        "qc.cswap(qr[0],qr[4],qr[5])"
      ],
      "metadata": {
        "colab": {
          "base_uri": "https://localhost:8080/"
        },
        "id": "IpZNPW71-73M",
        "outputId": "018d809f-756d-406f-fbde-9d7e24a0a2fe"
      },
      "execution_count": 10,
      "outputs": [
        {
          "output_type": "execute_result",
          "data": {
            "text/plain": [
              "<qiskit.circuit.instructionset.InstructionSet at 0x7fe630c96cb0>"
            ]
          },
          "metadata": {},
          "execution_count": 10
        }
      ]
    },
    {
      "cell_type": "code",
      "source": [
        "qc.barrier()"
      ],
      "metadata": {
        "colab": {
          "base_uri": "https://localhost:8080/"
        },
        "id": "4GyHbDs2_stw",
        "outputId": "9b93a31e-a537-49e8-9036-9150e555456c"
      },
      "execution_count": 11,
      "outputs": [
        {
          "output_type": "execute_result",
          "data": {
            "text/plain": [
              "<qiskit.circuit.instructionset.InstructionSet at 0x7fe630c963b0>"
            ]
          },
          "metadata": {},
          "execution_count": 11
        }
      ]
    },
    {
      "cell_type": "code",
      "source": [
        "target_qubits = [1,2,3,4]\n",
        "for (c,q) in enumerate(target_qubits):\n",
        "  qc.measure(qr[q],cr[c])"
      ],
      "metadata": {
        "id": "TkgRubHu_uXp"
      },
      "execution_count": 12,
      "outputs": []
    },
    {
      "cell_type": "code",
      "source": [
        "qc.draw(\"mpl\")"
      ],
      "metadata": {
        "colab": {
          "base_uri": "https://localhost:8080/",
          "height": 513
        },
        "id": "OAQ-hhK3AS3R",
        "outputId": "eed9af3a-1d6f-4392-f28a-c3f178c2616f"
      },
      "execution_count": 13,
      "outputs": [
        {
          "output_type": "execute_result",
          "data": {
            "text/plain": [
              "<Figure size 1058.03x618.722 with 1 Axes>"
            ],
            "image/png": "[encoded data removed]"
          },
          "metadata": {},
          "execution_count": 13
        }
      ]
    },
    {
      "cell_type": "code",
      "source": [
        "output = ideal_qc_simulation(qc,backend,1)"
      ],
      "metadata": {
        "id": "HfEujhTZAjKb"
      },
      "execution_count": 14,
      "outputs": []
    },
    {
      "cell_type": "code",
      "source": [
        "output = list(output.keys())[0]"
      ],
      "metadata": {
        "id": "1UkrhAqqAoGB"
      },
      "execution_count": 15,
      "outputs": []
    },
    {
      "cell_type": "code",
      "source": [
        "output = reverse_output(output)"
      ],
      "metadata": {
        "id": "ZNd_o0i_A1-p"
      },
      "execution_count": 16,
      "outputs": []
    },
    {
      "cell_type": "code",
      "source": [
        "output"
      ],
      "metadata": {
        "colab": {
          "base_uri": "https://localhost:8080/",
          "height": 35
        },
        "id": "_ZIEiT7EA54w",
        "outputId": "9b7149a0-be6a-4b41-c574-20650c2b254a"
      },
      "execution_count": 17,
      "outputs": [
        {
          "output_type": "execute_result",
          "data": {
            "text/plain": [
              "'1010'"
            ],
            "application/vnd.google.colaboratory.intrinsic+json": {
              "type": "string"
            }
          },
          "metadata": {},
          "execution_count": 17
        }
      ]
    },
    {
      "cell_type": "markdown",
      "source": [
        "## Left Shifter"
      ],
      "metadata": {
        "id": "gMLq_Va87K6o"
      }
    },
    {
      "cell_type": "code",
      "source": [
        "qr = QuantumRegister(QUBIT_NUM)\n",
        "cr = ClassicalRegister(MEASUREMENT_NUM)\n",
        "qc = QuantumCircuit(qr,cr)"
      ],
      "metadata": {
        "id": "cfcM3jcO7SqE"
      },
      "execution_count": 18,
      "outputs": []
    },
    {
      "cell_type": "code",
      "source": [
        "# initialize the quantum circuit \n",
        "target_qubits = [0,1,3]\n",
        "initialize_quantum_circuit(qc,target_qubits)"
      ],
      "metadata": {
        "id": "JYGTEVkbBsLO"
      },
      "execution_count": 19,
      "outputs": []
    },
    {
      "cell_type": "code",
      "source": [
        "qc.barrier()"
      ],
      "metadata": {
        "colab": {
          "base_uri": "https://localhost:8080/"
        },
        "id": "NPl0_wfWBzbr",
        "outputId": "c4345c81-af4c-457a-fe84-1c5d39db94f6"
      },
      "execution_count": 20,
      "outputs": [
        {
          "output_type": "execute_result",
          "data": {
            "text/plain": [
              "<qiskit.circuit.instructionset.InstructionSet at 0x7fe6303f9750>"
            ]
          },
          "metadata": {},
          "execution_count": 20
        }
      ]
    },
    {
      "cell_type": "code",
      "source": [
        "# implement quantum circuit\n",
        "qc.cswap(qr[0],qr[4],qr[5])\n",
        "qc.cswap(qr[0],qr[3],qr[4])\n",
        "qc.cswap(qr[0],qr[2],qr[3])\n",
        "qc.cswap(qr[0],qr[1],qr[2])"
      ],
      "metadata": {
        "colab": {
          "base_uri": "https://localhost:8080/"
        },
        "id": "uDXrzZuSB2R7",
        "outputId": "1f93788c-a53a-462a-961e-7fac2683a409"
      },
      "execution_count": 21,
      "outputs": [
        {
          "output_type": "execute_result",
          "data": {
            "text/plain": [
              "<qiskit.circuit.instructionset.InstructionSet at 0x7fe6303fb670>"
            ]
          },
          "metadata": {},
          "execution_count": 21
        }
      ]
    },
    {
      "cell_type": "code",
      "source": [
        "qc.barrier()"
      ],
      "metadata": {
        "colab": {
          "base_uri": "https://localhost:8080/"
        },
        "id": "-7ALVoiaCO2s",
        "outputId": "3b691dec-7195-4bf7-f0dc-8aec47c691a0"
      },
      "execution_count": 22,
      "outputs": [
        {
          "output_type": "execute_result",
          "data": {
            "text/plain": [
              "<qiskit.circuit.instructionset.InstructionSet at 0x7fe6303fb730>"
            ]
          },
          "metadata": {},
          "execution_count": 22
        }
      ]
    },
    {
      "cell_type": "code",
      "source": [
        "target_qubits = [1,2,3,4]\n",
        "for (c,q) in enumerate(target_qubits):\n",
        "  qc.measure(qr[q],cr[c])"
      ],
      "metadata": {
        "id": "JjXFRYE4CRCP"
      },
      "execution_count": 23,
      "outputs": []
    },
    {
      "cell_type": "code",
      "source": [
        "qc.draw(\"mpl\")"
      ],
      "metadata": {
        "colab": {
          "base_uri": "https://localhost:8080/",
          "height": 513
        },
        "id": "3HaMr2VDDU03",
        "outputId": "7337a39a-2059-49e4-bf84-7ee34d62c611"
      },
      "execution_count": 24,
      "outputs": [
        {
          "output_type": "execute_result",
          "data": {
            "text/plain": [
              "<Figure size 1058.43x618.722 with 1 Axes>"
            ],
            "image/png": "[encoded data removed]"
          },
          "metadata": {},
          "execution_count": 24
        }
      ]
    },
    {
      "cell_type": "code",
      "source": [
        "output = ideal_qc_simulation(qc,backend,1)"
      ],
      "metadata": {
        "id": "_5AvM9-cCVta"
      },
      "execution_count": 25,
      "outputs": []
    },
    {
      "cell_type": "code",
      "source": [
        "output = list(output.keys())[0]"
      ],
      "metadata": {
        "id": "tGLaWC0IDH4A"
      },
      "execution_count": 26,
      "outputs": []
    },
    {
      "cell_type": "code",
      "source": [
        "output = reverse_output(output)"
      ],
      "metadata": {
        "id": "gsw-_uC2DJwt"
      },
      "execution_count": 27,
      "outputs": []
    },
    {
      "cell_type": "code",
      "source": [
        "output"
      ],
      "metadata": {
        "colab": {
          "base_uri": "https://localhost:8080/",
          "height": 35
        },
        "id": "YDqp5Wr3DKUX",
        "outputId": "89dac592-31f9-4c3c-9417-70f6f402a6fe"
      },
      "execution_count": 28,
      "outputs": [
        {
          "output_type": "execute_result",
          "data": {
            "text/plain": [
              "'0101'"
            ],
            "application/vnd.google.colaboratory.intrinsic+json": {
              "type": "string"
            }
          },
          "metadata": {},
          "execution_count": 28
        }
      ]
    },
    {
      "cell_type": "markdown",
      "source": [
        "# Quantum Rotator"
      ],
      "metadata": {
        "id": "yqEI8QWU7VeI"
      }
    },
    {
      "cell_type": "code",
      "source": [
        "QUBIT_NUM = 6\n",
        "MEASUREMENT_NUM = 5"
      ],
      "metadata": {
        "id": "obdLQboz7b6q"
      },
      "execution_count": 29,
      "outputs": []
    },
    {
      "cell_type": "markdown",
      "source": [
        "## Right Rotator\n"
      ],
      "metadata": {
        "id": "Rav_NAhY7Yru"
      }
    },
    {
      "cell_type": "code",
      "source": [
        "qr = QuantumRegister(QUBIT_NUM)\n",
        "cr = ClassicalRegister(MEASUREMENT_NUM)\n",
        "qc = QuantumCircuit(qr,cr)"
      ],
      "metadata": {
        "id": "_JRFPVo6YWyd"
      },
      "execution_count": 30,
      "outputs": []
    },
    {
      "cell_type": "code",
      "source": [
        "# initialize the quantum circuit \n",
        "target_qubits = [0,1,2,3]\n",
        "initialize_quantum_circuit(qc,target_qubits)"
      ],
      "metadata": {
        "id": "dS2MXOmZYadG"
      },
      "execution_count": 31,
      "outputs": []
    },
    {
      "cell_type": "code",
      "source": [
        "qc.barrier()"
      ],
      "metadata": {
        "colab": {
          "base_uri": "https://localhost:8080/"
        },
        "id": "Z-wukVEfYfhj",
        "outputId": "2653397d-e17e-43ea-c181-3072769b0956"
      },
      "execution_count": 32,
      "outputs": [
        {
          "output_type": "execute_result",
          "data": {
            "text/plain": [
              "<qiskit.circuit.instructionset.InstructionSet at 0x7fe6303e4a90>"
            ]
          },
          "metadata": {},
          "execution_count": 32
        }
      ]
    },
    {
      "cell_type": "code",
      "source": [
        "# implement quantum circuit\n",
        "qc.cswap(qr[0],qr[1],qr[2])\n",
        "qc.cswap(qr[0],qr[2],qr[3])\n",
        "qc.cswap(qr[0],qr[3],qr[4])\n",
        "qc.cswap(qr[0],qr[4],qr[5])"
      ],
      "metadata": {
        "colab": {
          "base_uri": "https://localhost:8080/"
        },
        "id": "aukkdw34YrKC",
        "outputId": "df5e21e2-f357-4ed4-b6ed-5cc359962128"
      },
      "execution_count": 33,
      "outputs": [
        {
          "output_type": "execute_result",
          "data": {
            "text/plain": [
              "<qiskit.circuit.instructionset.InstructionSet at 0x7fe6303e4d60>"
            ]
          },
          "metadata": {},
          "execution_count": 33
        }
      ]
    },
    {
      "cell_type": "code",
      "source": [
        "qc.barrier()"
      ],
      "metadata": {
        "colab": {
          "base_uri": "https://localhost:8080/"
        },
        "id": "7bPCpXsfgl-v",
        "outputId": "542cd16d-7d31-41d2-9bd4-93dbccda9b26"
      },
      "execution_count": 34,
      "outputs": [
        {
          "output_type": "execute_result",
          "data": {
            "text/plain": [
              "<qiskit.circuit.instructionset.InstructionSet at 0x7fe6303e4130>"
            ]
          },
          "metadata": {},
          "execution_count": 34
        }
      ]
    },
    {
      "cell_type": "code",
      "source": [
        "target_qubits = [1,2,3,4,5]\n",
        "for (c,q) in enumerate(target_qubits):\n",
        "  qc.measure(qr[q],cr[c])"
      ],
      "metadata": {
        "id": "5UtaVy6UY56Q"
      },
      "execution_count": 35,
      "outputs": []
    },
    {
      "cell_type": "code",
      "source": [
        "qc.draw(\"mpl\")"
      ],
      "metadata": {
        "colab": {
          "base_uri": "https://localhost:8080/",
          "height": 513
        },
        "id": "4mlUnx04cGLi",
        "outputId": "48df1894-c318-4b12-9c57-a01191b21b91"
      },
      "execution_count": 36,
      "outputs": [
        {
          "output_type": "execute_result",
          "data": {
            "text/plain": [
              "<Figure size 1159.87x618.722 with 1 Axes>"
            ],
            "image/png": "[encoded data removed]"
          },
          "metadata": {},
          "execution_count": 36
        }
      ]
    },
    {
      "cell_type": "code",
      "source": [
        "output = ideal_qc_simulation(qc,backend,1)"
      ],
      "metadata": {
        "id": "FVWU9k3PcG1d"
      },
      "execution_count": 37,
      "outputs": []
    },
    {
      "cell_type": "code",
      "source": [
        "output = list(output.keys())[0]"
      ],
      "metadata": {
        "id": "WIMnbi7VcI6D"
      },
      "execution_count": 38,
      "outputs": []
    },
    {
      "cell_type": "code",
      "source": [
        "output"
      ],
      "metadata": {
        "colab": {
          "base_uri": "https://localhost:8080/",
          "height": 35
        },
        "id": "JmSe7LpQcK0Q",
        "outputId": "f6e4ea30-fb55-497b-8ea4-6e49d367cb92"
      },
      "execution_count": 39,
      "outputs": [
        {
          "output_type": "execute_result",
          "data": {
            "text/plain": [
              "'10011'"
            ],
            "application/vnd.google.colaboratory.intrinsic+json": {
              "type": "string"
            }
          },
          "metadata": {},
          "execution_count": 39
        }
      ]
    },
    {
      "cell_type": "markdown",
      "source": [
        "## Left Rotator"
      ],
      "metadata": {
        "id": "jTOTLTDQ7eCA"
      }
    },
    {
      "cell_type": "code",
      "source": [
        "qr = QuantumRegister(QUBIT_NUM)\n",
        "cr = ClassicalRegister(MEASUREMENT_NUM)\n",
        "qc = QuantumCircuit(qr,cr)"
      ],
      "metadata": {
        "id": "Jmd8vhrKcE0j"
      },
      "execution_count": 40,
      "outputs": []
    },
    {
      "cell_type": "code",
      "source": [
        "target_qubits = [0,3,4,5]\n",
        "initialize_quantum_circuit(qc,target_qubits)"
      ],
      "metadata": {
        "id": "uvrZvrwzdzDz"
      },
      "execution_count": 41,
      "outputs": []
    },
    {
      "cell_type": "code",
      "source": [
        "qc.barrier()"
      ],
      "metadata": {
        "colab": {
          "base_uri": "https://localhost:8080/"
        },
        "id": "X5KFyGSeeUTd",
        "outputId": "3d3661cc-3fab-4d23-a72c-ecff9425a82f"
      },
      "execution_count": 42,
      "outputs": [
        {
          "output_type": "execute_result",
          "data": {
            "text/plain": [
              "<qiskit.circuit.instructionset.InstructionSet at 0x7fe630865840>"
            ]
          },
          "metadata": {},
          "execution_count": 42
        }
      ]
    },
    {
      "cell_type": "code",
      "source": [
        "# implement quantum circuit\n",
        "qc.cswap(qr[0],qr[4],qr[5])\n",
        "qc.cswap(qr[0],qr[3],qr[4])\n",
        "qc.cswap(qr[0],qr[2],qr[3])\n",
        "qc.cswap(qr[0],qr[1],qr[2])"
      ],
      "metadata": {
        "colab": {
          "base_uri": "https://localhost:8080/"
        },
        "id": "a5B5b8WzeVRq",
        "outputId": "57d8d5b6-c926-4c2e-e8b2-ecb1077d402a"
      },
      "execution_count": 43,
      "outputs": [
        {
          "output_type": "execute_result",
          "data": {
            "text/plain": [
              "<qiskit.circuit.instructionset.InstructionSet at 0x7fe630867b80>"
            ]
          },
          "metadata": {},
          "execution_count": 43
        }
      ]
    },
    {
      "cell_type": "code",
      "source": [
        "qc.barrier()"
      ],
      "metadata": {
        "colab": {
          "base_uri": "https://localhost:8080/"
        },
        "id": "V_ti5mfdeYK1",
        "outputId": "707f2b54-6fe2-4663-9331-b66634176200"
      },
      "execution_count": 44,
      "outputs": [
        {
          "output_type": "execute_result",
          "data": {
            "text/plain": [
              "<qiskit.circuit.instructionset.InstructionSet at 0x7fe630864490>"
            ]
          },
          "metadata": {},
          "execution_count": 44
        }
      ]
    },
    {
      "cell_type": "code",
      "source": [
        "target_qubits = [1,2,3,4,5]\n",
        "for (c,q) in enumerate(target_qubits):\n",
        "  qc.measure(qr[q],cr[c])"
      ],
      "metadata": {
        "id": "EOxSS2S6ebD3"
      },
      "execution_count": 45,
      "outputs": []
    },
    {
      "cell_type": "code",
      "source": [
        "qc.draw(\"mpl\")"
      ],
      "metadata": {
        "colab": {
          "base_uri": "https://localhost:8080/",
          "height": 513
        },
        "id": "hZD8Nvdpeen2",
        "outputId": "0d07e46b-5600-43f5-8a40-ded0d235ff28"
      },
      "execution_count": 46,
      "outputs": [
        {
          "output_type": "execute_result",
          "data": {
            "text/plain": [
              "<Figure size 1160.27x618.722 with 1 Axes>"
            ],
            "image/png": "[encoded data removed]"
          },
          "metadata": {},
          "execution_count": 46
        }
      ]
    },
    {
      "cell_type": "code",
      "source": [
        "output = ideal_qc_simulation(qc,backend,1)"
      ],
      "metadata": {
        "id": "We9eDEYWeh3s"
      },
      "execution_count": 47,
      "outputs": []
    },
    {
      "cell_type": "code",
      "source": [
        "output = list(output.keys())[0]"
      ],
      "metadata": {
        "id": "qw_TeQxqenXK"
      },
      "execution_count": 48,
      "outputs": []
    },
    {
      "cell_type": "code",
      "source": [
        "output"
      ],
      "metadata": {
        "colab": {
          "base_uri": "https://localhost:8080/",
          "height": 35
        },
        "id": "fH45thqvepCC",
        "outputId": "65d525b8-10c8-45a0-fcc1-1b42cc9ff609"
      },
      "execution_count": 49,
      "outputs": [
        {
          "output_type": "execute_result",
          "data": {
            "text/plain": [
              "'11001'"
            ],
            "application/vnd.google.colaboratory.intrinsic+json": {
              "type": "string"
            }
          },
          "metadata": {},
          "execution_count": 49
        }
      ]
    },
    {
      "cell_type": "code",
      "source": [
        "def right_shifter_rotator(initialize_quantum_state = False):\n",
        "  QUBIT_NUM = 6\n",
        "  qr = QuantumRegister(QUBIT_NUM)\n",
        "  qc = QuantumCircuit(qr)\n",
        "  # initialized ket 0 to |1>\n",
        "  if initialize_quantum_state:\n",
        "    qc.x(qr[0])\n",
        "  # implement quantum circuit\n",
        "  qc.cswap(qr[0],qr[1],qr[2])\n",
        "  qc.cswap(qr[0],qr[2],qr[3])\n",
        "  qc.cswap(qr[0],qr[3],qr[4])\n",
        "  qc.cswap(qr[0],qr[4],qr[5])\n",
        "  return qc\n",
        "\n",
        "def left_shifter_rotator(initialize_quantum_state = False):\n",
        "  QUBIT_NUM = 6\n",
        "  qr = QuantumRegister(QUBIT_NUM)\n",
        "  qc = QuantumCircuit(qr)\n",
        "  # initialized ket 0 to |1>\n",
        "  if initialize_quantum_state:\n",
        "    qc.x(qr[0])\n",
        "  # implement quantum circuit\n",
        "  qc.cswap(qr[0],qr[4],qr[5])\n",
        "  qc.cswap(qr[0],qr[3],qr[4])\n",
        "  qc.cswap(qr[0],qr[2],qr[3])\n",
        "  qc.cswap(qr[0],qr[1],qr[2])\n",
        "  return qc"
      ],
      "metadata": {
        "id": "whYIBdaCgvtu"
      },
      "execution_count": 50,
      "outputs": []
    },
    {
      "cell_type": "code",
      "source": [],
      "metadata": {
        "id": "nQeKqSTpk2qJ"
      },
      "execution_count": 50,
      "outputs": []
    }
  ]
}