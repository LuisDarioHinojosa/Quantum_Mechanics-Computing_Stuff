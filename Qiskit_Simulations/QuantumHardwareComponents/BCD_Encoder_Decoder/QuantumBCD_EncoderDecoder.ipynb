{
  "nbformat": 4,
  "nbformat_minor": 0,
  "metadata": {
    "colab": {
      "provenance": []
    },
    "kernelspec": {
      "name": "python3",
      "display_name": "Python 3"
    },
    "language_info": {
      "name": "python"
    }
  },
  "cells": [
    {
      "cell_type": "code",
      "execution_count": 1,
      "metadata": {
        "colab": {
          "base_uri": "https://localhost:8080/"
        },
        "id": "ptKhi-9nwa-I",
        "outputId": "20a2f05f-b905-4587-a3ae-22de02237a8d"
      },
      "outputs": [
        {
          "output_type": "stream",
          "name": "stdout",
          "text": [
            "Dependencies are already installed. Skipping...\n"
          ]
        }
      ],
      "source": [
        "try:\n",
        "  print(\"Dependencies are already installed. Skipping...\")\n",
        "  from qiskit import QuantumCircuit, QuantumRegister, ClassicalRegister\n",
        "  from qiskit.visualization import plot_bloch_multivector, plot_histogram\n",
        "  from qiskit.providers.aer import QasmSimulator\n",
        "  from qiskit import execute,Aer\n",
        "  import math\n",
        "  from qiskit import transpile\n",
        "except:\n",
        "  print(\"Installing Corresponing Dependencies\")\n",
        "  ! pip install qiskit\n",
        "  ! pip install pylatexenc\n",
        "  from qiskit import QuantumCircuit, QuantumRegister, ClassicalRegister\n",
        "  from qiskit.visualization import plot_bloch_multivector, plot_histogram\n",
        "  from qiskit.providers.aer import QasmSimulator\n",
        "  from qiskit import execute,Aer\n",
        "  import math\n",
        "  from qiskit import transpile"
      ]
    },
    {
      "cell_type": "code",
      "source": [
        "!rm -r modules"
      ],
      "metadata": {
        "id": "OimmpuDswlN-"
      },
      "execution_count": 2,
      "outputs": []
    },
    {
      "cell_type": "code",
      "source": [
        "# import modules\n",
        "import requests\n",
        "from pathlib import Path\n",
        "import os\n",
        "\n",
        "\n",
        "directory = Path(\"modules\")\n",
        "\n",
        "if not os.path.exists(directory):\n",
        "  os.makedirs(directory)\n",
        "  \n",
        "helper_modules = {\n",
        "    \"quantum_hardware_circuits.py\":\"https://raw.githubusercontent.com/Q-b1t/Quantum_Mechanics-Computing_Stuff/master/modules/quantum_hardware_functions/quantum_hardware_circuits.py\",\n",
        "    \"experiment_utils.py\":\"https://raw.githubusercontent.com/Q-b1t/Quantum_Mechanics-Computing_Stuff/master/modules/utils/experiment_utils.py\"\n",
        "    }\n",
        "\n",
        "for module,raw in helper_modules.items():\n",
        "  module_file = directory / module\n",
        "  if(module_file.exists()):\n",
        "    print(f\"Module: {module_file} already exists. Skipping...\")\n",
        "  else:\n",
        "    print(f\"Downloading {module}\")\n",
        "    request = requests.get(raw)\n",
        "    with open(module_file,\"wb\") as f:\n",
        "      f.write(request.content)"
      ],
      "metadata": {
        "colab": {
          "base_uri": "https://localhost:8080/"
        },
        "id": "p0BJ3_i-wqY_",
        "outputId": "4bc977fb-a79b-403a-e471-b638259531f3"
      },
      "execution_count": 3,
      "outputs": [
        {
          "output_type": "stream",
          "name": "stdout",
          "text": [
            "Downloading quantum_hardware_circuits.py\n",
            "Downloading experiment_utils.py\n"
          ]
        }
      ]
    },
    {
      "cell_type": "code",
      "source": [
        "from modules.experiment_utils import ideal_qc_simulation,get_target_measurement,initialize_quantum_circuit,reverse_output,make_meaurement"
      ],
      "metadata": {
        "id": "TUglzj19wwwm"
      },
      "execution_count": 4,
      "outputs": []
    },
    {
      "cell_type": "code",
      "source": [
        "backend = QasmSimulator()"
      ],
      "metadata": {
        "id": "a78O38re7kT2"
      },
      "execution_count": 5,
      "outputs": []
    },
    {
      "cell_type": "markdown",
      "source": [
        "# Quantum Binary Encoder Implementation:"
      ],
      "metadata": {
        "id": "9IfRFSgmwzTI"
      }
    },
    {
      "cell_type": "markdown",
      "source": [
        "A 4 -> 2 quantum decimal to binary encoder implementation:"
      ],
      "metadata": {
        "id": "pIiRi31twxtb"
      }
    },
    {
      "cell_type": "code",
      "source": [
        "num_qubits = 6\n",
        "num_measurements = 2"
      ],
      "metadata": {
        "id": "P_GAaoCv4w0c"
      },
      "execution_count": 6,
      "outputs": []
    },
    {
      "cell_type": "code",
      "source": [
        "qr = QuantumRegister(num_qubits)\n",
        "cr = ClassicalRegister(num_measurements)\n",
        "qc = QuantumCircuit(qr,cr)"
      ],
      "metadata": {
        "id": "wgcpfq7H5NN8"
      },
      "execution_count": 7,
      "outputs": []
    },
    {
      "cell_type": "code",
      "source": [
        "# encoder input\n",
        "circuit_input = [0]\n",
        "initialize_quantum_circuit(qc,circuit_input)"
      ],
      "metadata": {
        "id": "cGcZ3iTW6S6p"
      },
      "execution_count": 8,
      "outputs": []
    },
    {
      "cell_type": "code",
      "source": [
        "qc.barrier()"
      ],
      "metadata": {
        "colab": {
          "base_uri": "https://localhost:8080/"
        },
        "id": "H3oTqvEy534W",
        "outputId": "aed0f5f7-5202-463a-b634-b6760b255302"
      },
      "execution_count": 9,
      "outputs": [
        {
          "output_type": "execute_result",
          "data": {
            "text/plain": [
              "<qiskit.circuit.instructionset.InstructionSet at 0x7f699a552460>"
            ]
          },
          "metadata": {},
          "execution_count": 9
        }
      ]
    },
    {
      "cell_type": "code",
      "source": [
        "# apply not gates\n",
        "qc.x(qr[0])\n",
        "qc.x(qr[1])\n",
        "qc.x(qr[2])\n",
        "\n",
        "# these are because we must send |1> to the 4 and 5th qubits\n",
        "qc.x(qr[4])\n",
        "qc.x(qr[5])"
      ],
      "metadata": {
        "colab": {
          "base_uri": "https://localhost:8080/"
        },
        "id": "JioZxo5k5ZzJ",
        "outputId": "ddf40ca5-e217-4612-88d3-93aea278df51"
      },
      "execution_count": 10,
      "outputs": [
        {
          "output_type": "execute_result",
          "data": {
            "text/plain": [
              "<qiskit.circuit.instructionset.InstructionSet at 0x7f699a546b20>"
            ]
          },
          "metadata": {},
          "execution_count": 10
        }
      ]
    },
    {
      "cell_type": "code",
      "source": [
        "# apply toffoli gates\n",
        "qc.ccx(qr[0],qr[1],qr[4])\n",
        "qc.ccx(qr[0],qr[2],qr[5])"
      ],
      "metadata": {
        "colab": {
          "base_uri": "https://localhost:8080/"
        },
        "id": "SsmOJsCR5qgv",
        "outputId": "d4b6b6b2-7508-4f43-cc69-cc61c647b61a"
      },
      "execution_count": 11,
      "outputs": [
        {
          "output_type": "execute_result",
          "data": {
            "text/plain": [
              "<qiskit.circuit.instructionset.InstructionSet at 0x7f699a546700>"
            ]
          },
          "metadata": {},
          "execution_count": 11
        }
      ]
    },
    {
      "cell_type": "code",
      "source": [
        "# make quantum measurements\n",
        "output_qubits = [4,5]\n",
        "for c,q in enumerate(output_qubits):\n",
        "  qc.measure(qr[q],cr[c])"
      ],
      "metadata": {
        "id": "iyDlAyQC53ci"
      },
      "execution_count": 12,
      "outputs": []
    },
    {
      "cell_type": "code",
      "source": [
        "qc.draw(\"mpl\")"
      ],
      "metadata": {
        "colab": {
          "base_uri": "https://localhost:8080/",
          "height": 513
        },
        "id": "BrQRIo246Mxo",
        "outputId": "2aa623be-0805-4f12-da08-817c708ad618"
      },
      "execution_count": 13,
      "outputs": [
        {
          "output_type": "execute_result",
          "data": {
            "text/plain": [
              "<Figure size 723.581x618.722 with 1 Axes>"
            ],
            "image/png": "[encoded data removed]"
          },
          "metadata": {},
          "execution_count": 13
        }
      ]
    },
    {
      "cell_type": "code",
      "source": [
        "counts = ideal_qc_simulation(qc,backend,1)"
      ],
      "metadata": {
        "id": "rplmvuaK7cUB"
      },
      "execution_count": 14,
      "outputs": []
    },
    {
      "cell_type": "code",
      "source": [
        "output = list(counts.keys())[0]"
      ],
      "metadata": {
        "id": "UOOQWTJH7ngA"
      },
      "execution_count": 15,
      "outputs": []
    },
    {
      "cell_type": "code",
      "source": [
        "output = reverse_output(output)\n",
        "output"
      ],
      "metadata": {
        "colab": {
          "base_uri": "https://localhost:8080/",
          "height": 35
        },
        "id": "ceXIKHO87rVm",
        "outputId": "a731a1f3-eed0-4f2e-c9e7-87256515b172"
      },
      "execution_count": 16,
      "outputs": [
        {
          "output_type": "execute_result",
          "data": {
            "text/plain": [
              "'11'"
            ],
            "application/vnd.google.colaboratory.intrinsic+json": {
              "type": "string"
            }
          },
          "metadata": {},
          "execution_count": 16
        }
      ]
    },
    {
      "cell_type": "markdown",
      "source": [
        "# Quantum Decoder Implementation\n",
        "An implementation 2 -> 4 of a quantum binary to decimal decoder:"
      ],
      "metadata": {
        "id": "XmRYPLzy9u2A"
      }
    },
    {
      "cell_type": "code",
      "source": [
        "num_qubits = 4\n",
        "num_measurements = 4"
      ],
      "metadata": {
        "id": "ilUDOhZ994dU"
      },
      "execution_count": 17,
      "outputs": []
    },
    {
      "cell_type": "code",
      "source": [
        "qr = QuantumRegister(num_qubits)\n",
        "cr = ClassicalRegister(num_measurements)\n",
        "qc = QuantumCircuit(qr,cr)"
      ],
      "metadata": {
        "id": "rE7oj3Dk-d6P"
      },
      "execution_count": 18,
      "outputs": []
    },
    {
      "cell_type": "code",
      "source": [
        "# decoder input\n",
        "circuit_input = [0,1]\n",
        "initialize_quantum_circuit(qc,circuit_input)"
      ],
      "metadata": {
        "id": "hcoVbtMj-l_Q"
      },
      "execution_count": 19,
      "outputs": []
    },
    {
      "cell_type": "code",
      "source": [
        "qc.barrier()"
      ],
      "metadata": {
        "colab": {
          "base_uri": "https://localhost:8080/"
        },
        "id": "HK8qSTH9-olB",
        "outputId": "8f493bbf-cc98-4c58-f8c9-a3b645d99614"
      },
      "execution_count": 20,
      "outputs": [
        {
          "output_type": "execute_result",
          "data": {
            "text/plain": [
              "<qiskit.circuit.instructionset.InstructionSet at 0x7f6997fe23a0>"
            ]
          },
          "metadata": {},
          "execution_count": 20
        }
      ]
    },
    {
      "cell_type": "code",
      "source": [
        "# this gate must receibe |1> on for the circuit to work\n",
        "qc.x(qr[3])\n",
        "# build the quantum circuit\n",
        "qc.cx(qr[0],qr[3])\n",
        "qc.ccx(qr[1],qr[3],qr[2])\n",
        "qc.cx(qr[2],qr[1])\n",
        "qc.swap(qr[0],qr[1])\n",
        "qc.cx(qr[2],qr[3])\n",
        "qc.cx(qr[0],qr[1])\n"
      ],
      "metadata": {
        "colab": {
          "base_uri": "https://localhost:8080/"
        },
        "id": "K3HOoCuH-1hj",
        "outputId": "8e0a70fb-5c6a-44a8-b3a0-ea2355740f7d"
      },
      "execution_count": 21,
      "outputs": [
        {
          "output_type": "execute_result",
          "data": {
            "text/plain": [
              "<qiskit.circuit.instructionset.InstructionSet at 0x7f699802e520>"
            ]
          },
          "metadata": {},
          "execution_count": 21
        }
      ]
    },
    {
      "cell_type": "code",
      "source": [
        "# make the quantum measurements\n",
        "for i in range(num_measurements):\n",
        "  qc.measure(qr[i],cr[i])"
      ],
      "metadata": {
        "id": "coZFhj_O_i0_"
      },
      "execution_count": 22,
      "outputs": []
    },
    {
      "cell_type": "code",
      "source": [
        "qc.draw(\"mpl\")"
      ],
      "metadata": {
        "colab": {
          "base_uri": "https://localhost:8080/",
          "height": 384
        },
        "id": "ArOWuGkK_tl-",
        "outputId": "a195e06b-a362-4aab-ede1-5c13d833f3e5"
      },
      "execution_count": 23,
      "outputs": [
        {
          "output_type": "execute_result",
          "data": {
            "text/plain": [
              "<Figure size 1058.43x451.5 with 1 Axes>"
            ],
            "image/png": "[encoded data removed]"
          },
          "metadata": {},
          "execution_count": 23
        }
      ]
    },
    {
      "cell_type": "code",
      "source": [
        "counts = ideal_qc_simulation(qc,backend,1)"
      ],
      "metadata": {
        "id": "3NQRyk7aQb08"
      },
      "execution_count": 24,
      "outputs": []
    },
    {
      "cell_type": "code",
      "source": [
        "output = list(counts.keys())[0]"
      ],
      "metadata": {
        "id": "DNJUi7v6RD30"
      },
      "execution_count": 25,
      "outputs": []
    },
    {
      "cell_type": "code",
      "source": [
        "output = reverse_output(output)\n",
        "output"
      ],
      "metadata": {
        "colab": {
          "base_uri": "https://localhost:8080/",
          "height": 35
        },
        "id": "5zLW8u-fRIPZ",
        "outputId": "aafadd84-9720-4844-f9e5-8aab9ed6a377"
      },
      "execution_count": 26,
      "outputs": [
        {
          "output_type": "execute_result",
          "data": {
            "text/plain": [
              "'1000'"
            ],
            "application/vnd.google.colaboratory.intrinsic+json": {
              "type": "string"
            }
          },
          "metadata": {},
          "execution_count": 26
        }
      ]
    },
    {
      "cell_type": "markdown",
      "source": [
        "# Circuit Implementation as quantum gates"
      ],
      "metadata": {
        "id": "nSf2BBFEWSiN"
      }
    },
    {
      "cell_type": "code",
      "source": [
        "# implemented as functions\n",
        "def quantum_bdc_encoder_4_2(initialize_quantum_state = False):\n",
        "  # instance quantum circuit\n",
        "  qr = QuantumRegister(6)\n",
        "  qc = QuantumCircuit(qr)\n",
        "  # apply not gates\n",
        "  qc.x(qr[0])\n",
        "  qc.x(qr[1])\n",
        "  qc.x(qr[2])\n",
        "\n",
        "  if initialize_quantum_state:\n",
        "    # these are because we must send |1> to the 4 and 5th qubits\n",
        "    qc.x(qr[4])\n",
        "    qc.x(qr[5])\n",
        "  \n",
        "  # apply toffoli gates\n",
        "  qc.ccx(qr[0],qr[1],qr[4])\n",
        "  qc.ccx(qr[0],qr[2],qr[5])\n",
        "  return qc\n",
        "\n",
        "\n",
        "def quantum_bdc_decoder_4_2(initialize_quantum_state = False):\n",
        "  # instance quantum circuit\n",
        "  qr = QuantumRegister(4)\n",
        "  qc = QuantumCircuit(qr)\n",
        "  if initialize_quantum_state:\n",
        "    # this gate must receibe |1> on for the circuit to work\n",
        "    qc.x(qr[3])\n",
        "  # build the quantum circuit\n",
        "  qc.cx(qr[0],qr[3])\n",
        "  qc.ccx(qr[1],qr[3],qr[2])\n",
        "  qc.cx(qr[2],qr[1])\n",
        "  qc.swap(qr[0],qr[1])\n",
        "  qc.cx(qr[2],qr[3])\n",
        "  qc.cx(qr[0],qr[1])\n",
        "\n",
        "  return qc"
      ],
      "metadata": {
        "id": "DUCTQbtBWVdp"
      },
      "execution_count": 27,
      "outputs": []
    },
    {
      "cell_type": "markdown",
      "source": [
        "## Gates Test"
      ],
      "metadata": {
        "id": "JoMsrI_NgLuh"
      }
    },
    {
      "cell_type": "code",
      "source": [
        "num_qubits = 8\n",
        "num_measurements = 4"
      ],
      "metadata": {
        "id": "Pq7GaKr8YOMp"
      },
      "execution_count": 28,
      "outputs": []
    },
    {
      "cell_type": "code",
      "source": [
        "qr = QuantumRegister(num_qubits)\n",
        "cr = ClassicalRegister(num_measurements)\n",
        "qc = QuantumCircuit(qr,cr)"
      ],
      "metadata": {
        "id": "vs-0RzamgXPj"
      },
      "execution_count": 29,
      "outputs": []
    },
    {
      "cell_type": "code",
      "source": [
        "q_enc = quantum_bdc_encoder_4_2(initialize_quantum_state=True) \n",
        "q_dec = quantum_bdc_decoder_4_2(initialize_quantum_state=True) "
      ],
      "metadata": {
        "id": "HXoSCVGEgk7k"
      },
      "execution_count": 30,
      "outputs": []
    },
    {
      "cell_type": "code",
      "source": [
        "initial_state = [3]\n",
        "initialize_quantum_circuit(qc,initial_state)"
      ],
      "metadata": {
        "id": "vl5EHzIBhnM4"
      },
      "execution_count": 31,
      "outputs": []
    },
    {
      "cell_type": "code",
      "source": [
        "qc.barrier()"
      ],
      "metadata": {
        "colab": {
          "base_uri": "https://localhost:8080/"
        },
        "id": "dj6GoI_ziVLF",
        "outputId": "747c1df7-e4d1-46c5-dc2d-438d0c7731ba"
      },
      "execution_count": 32,
      "outputs": [
        {
          "output_type": "execute_result",
          "data": {
            "text/plain": [
              "<qiskit.circuit.instructionset.InstructionSet at 0x7f699a546b80>"
            ]
          },
          "metadata": {},
          "execution_count": 32
        }
      ]
    },
    {
      "cell_type": "code",
      "source": [
        "qc.append(q_enc,[qr[0],qr[1],qr[2],qr[3],qr[4],qr[5]])"
      ],
      "metadata": {
        "colab": {
          "base_uri": "https://localhost:8080/"
        },
        "id": "WZ-ZGzovhwSY",
        "outputId": "7edcb7e4-0895-40be-a4b8-8039525b3367"
      },
      "execution_count": 33,
      "outputs": [
        {
          "output_type": "execute_result",
          "data": {
            "text/plain": [
              "<qiskit.circuit.instructionset.InstructionSet at 0x7f699a308940>"
            ]
          },
          "metadata": {},
          "execution_count": 33
        }
      ]
    },
    {
      "cell_type": "code",
      "source": [
        "qc.append(q_dec,[qr[4],qr[5],qr[6],qr[7]])"
      ],
      "metadata": {
        "colab": {
          "base_uri": "https://localhost:8080/"
        },
        "id": "FV_F-fv4iI-m",
        "outputId": "4155d7b3-00a1-4142-dd0d-022d9c86a404"
      },
      "execution_count": 34,
      "outputs": [
        {
          "output_type": "execute_result",
          "data": {
            "text/plain": [
              "<qiskit.circuit.instructionset.InstructionSet at 0x7f699a308a30>"
            ]
          },
          "metadata": {},
          "execution_count": 34
        }
      ]
    },
    {
      "cell_type": "code",
      "source": [
        "output_qubits = [4,5,6,7]\n",
        "for c,q in enumerate(output_qubits):\n",
        "  qc.measure(qr[q],cr[c])"
      ],
      "metadata": {
        "id": "Gq1y0DKkiTTW"
      },
      "execution_count": 35,
      "outputs": []
    },
    {
      "cell_type": "code",
      "source": [
        "qc.draw(\"mpl\")"
      ],
      "metadata": {
        "colab": {
          "base_uri": "https://localhost:8080/",
          "height": 642
        },
        "id": "jOLudwMPjuRU",
        "outputId": "a1188e19-0fbb-4ac5-e386-b7a96f17aa89"
      },
      "execution_count": 36,
      "outputs": [
        {
          "output_type": "execute_result",
          "data": {
            "text/plain": [
              "<Figure size 993.048x785.944 with 1 Axes>"
            ],
            "image/png": "[encoded data removed]"
          },
          "metadata": {},
          "execution_count": 36
        }
      ]
    },
    {
      "cell_type": "code",
      "source": [
        "counts = ideal_qc_simulation(qc,backend,1)"
      ],
      "metadata": {
        "id": "ecesjGebjyGO"
      },
      "execution_count": 37,
      "outputs": []
    },
    {
      "cell_type": "code",
      "source": [
        "output = list(counts.keys())[0]"
      ],
      "metadata": {
        "id": "UTrFeBgbj2m8"
      },
      "execution_count": 38,
      "outputs": []
    },
    {
      "cell_type": "code",
      "source": [
        "output = reverse_output(output)\n",
        "output"
      ],
      "metadata": {
        "colab": {
          "base_uri": "https://localhost:8080/",
          "height": 35
        },
        "id": "FK-QOd7Yj6kp",
        "outputId": "c0ad8390-2b7f-4b69-a584-2ff8b0f75bcd"
      },
      "execution_count": 39,
      "outputs": [
        {
          "output_type": "execute_result",
          "data": {
            "text/plain": [
              "'0001'"
            ],
            "application/vnd.google.colaboratory.intrinsic+json": {
              "type": "string"
            }
          },
          "metadata": {},
          "execution_count": 39
        }
      ]
    },
    {
      "cell_type": "markdown",
      "source": [
        "In the circuit implemented above, the decimal multibit signal that enters the circuit is the same that is obtained in the post-measurement state. This shows the implementation is correct."
      ],
      "metadata": {
        "id": "VKaIiZCbkhzw"
      }
    }
  ]
}