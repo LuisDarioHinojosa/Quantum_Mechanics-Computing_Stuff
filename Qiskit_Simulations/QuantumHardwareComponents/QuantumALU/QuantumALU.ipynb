{
  "nbformat": 4,
  "nbformat_minor": 0,
  "metadata": {
    "colab": {
      "provenance": []
    },
    "kernelspec": {
      "name": "python3",
      "display_name": "Python 3"
    },
    "language_info": {
      "name": "python"
    }
  },
  "cells": [
    {
      "cell_type": "code",
      "execution_count": 1,
      "metadata": {
        "colab": {
          "base_uri": "https://localhost:8080/"
        },
        "id": "IPdgBeyM9kL5",
        "outputId": "7fb8c7d9-aa8c-4f04-f202-6677ec706ec7"
      },
      "outputs": [
        {
          "output_type": "stream",
          "name": "stdout",
          "text": [
            "Dependencies are already installed. Skipping...\n"
          ]
        }
      ],
      "source": [
        "try:\n",
        "  print(\"Dependencies are already installed. Skipping...\")\n",
        "  from qiskit import QuantumCircuit, QuantumRegister, ClassicalRegister\n",
        "  from qiskit.visualization import plot_bloch_multivector, plot_histogram\n",
        "  from qiskit.providers.aer import QasmSimulator\n",
        "  from qiskit import execute,Aer\n",
        "  import math\n",
        "  from qiskit import transpile\n",
        "except:\n",
        "  print(\"Installing Corresponing Dependencies\")\n",
        "  ! pip install qiskit\n",
        "  ! pip install pylatexenc\n",
        "  from qiskit import QuantumCircuit, QuantumRegister, ClassicalRegister\n",
        "  from qiskit.visualization import plot_bloch_multivector, plot_histogram\n",
        "  from qiskit.providers.aer import QasmSimulator\n",
        "  from qiskit import execute,Aer\n",
        "  import math\n",
        "  from qiskit import transpile"
      ]
    },
    {
      "cell_type": "code",
      "source": [
        "# fetch backend\n",
        "backend = Aer.get_backend('statevector_simulator')"
      ],
      "metadata": {
        "id": "3wfh0Xwo-GZR"
      },
      "execution_count": 2,
      "outputs": []
    },
    {
      "cell_type": "code",
      "source": [
        "!rm -r modules"
      ],
      "metadata": {
        "id": "eGnL-RNB-LY4"
      },
      "execution_count": 3,
      "outputs": []
    },
    {
      "cell_type": "code",
      "source": [
        "# import modules\n",
        "import requests\n",
        "from pathlib import Path\n",
        "import os\n",
        "\n",
        "\n",
        "directory = Path(\"modules\")\n",
        "\n",
        "if not os.path.exists(directory):\n",
        "  os.makedirs(directory)\n",
        "  \n",
        "helper_modules = {\n",
        "    \"quantum_hardware_circuits.py\":\"https://raw.githubusercontent.com/Q-b1t/Quantum_Mechanics-Computing_Stuff/master/modules/quantum_hardware_functions/quantum_hardware_circuits.py\",\n",
        "    \"experiment_utils.py\":\"https://raw.githubusercontent.com/Q-b1t/Quantum_Mechanics-Computing_Stuff/master/modules/utils/experiment_utils.py\"\n",
        "    }\n",
        "\n",
        "for module,raw in helper_modules.items():\n",
        "  module_file = directory / module\n",
        "  if(module_file.exists()):\n",
        "    print(f\"Module: {module_file} already exists. Skipping...\")\n",
        "  else:\n",
        "    print(f\"Downloading {module}\")\n",
        "    request = requests.get(raw)\n",
        "    with open(module_file,\"wb\") as f:\n",
        "      f.write(request.content)"
      ],
      "metadata": {
        "colab": {
          "base_uri": "https://localhost:8080/"
        },
        "id": "SIyRgLi7-OpU",
        "outputId": "12f464eb-b45e-492a-87e5-5eb031016d7a"
      },
      "execution_count": 4,
      "outputs": [
        {
          "output_type": "stream",
          "name": "stdout",
          "text": [
            "Downloading quantum_hardware_circuits.py\n",
            "Downloading experiment_utils.py\n"
          ]
        }
      ]
    },
    {
      "cell_type": "code",
      "source": [
        "from modules.experiment_utils import ideal_qc_simulation,get_target_measurement,initialize_quantum_circuit,reverse_output,make_meaurement"
      ],
      "metadata": {
        "id": "Gqgs2l24-Qq8"
      },
      "execution_count": 5,
      "outputs": []
    },
    {
      "cell_type": "markdown",
      "source": [
        "# Quantum ALU Circuit:"
      ],
      "metadata": {
        "id": "RP8yZOqSAAqe"
      }
    },
    {
      "cell_type": "code",
      "source": [
        "NUM_QUBIT = 7\n",
        "NUM_MEASUEREMENTS = 1"
      ],
      "metadata": {
        "id": "7N1wzlzGADWk"
      },
      "execution_count": 6,
      "outputs": []
    },
    {
      "cell_type": "code",
      "source": [
        "qr = QuantumRegister(NUM_QUBIT)\n",
        "cr = ClassicalRegister(NUM_MEASUEREMENTS)\n",
        "qc = QuantumCircuit(qr,cr)"
      ],
      "metadata": {
        "id": "RWvwPte2AAB8"
      },
      "execution_count": 7,
      "outputs": []
    },
    {
      "cell_type": "code",
      "source": [
        "# dictionary \n",
        "operations = {\n",
        "    '+':'11000',\n",
        "    '-':'11100',\n",
        "    'xor':'10000',\n",
        "    'xnor':'10100',\n",
        "    '+1':'11010',\n",
        "    '-1':'11111',\n",
        "    'neg':'00100'\n",
        "}"
      ],
      "metadata": {
        "id": "F-4di08hKAQo"
      },
      "execution_count": 8,
      "outputs": []
    },
    {
      "cell_type": "code",
      "source": [
        "targets = [int(c) for c in operations[\"-1\"]] # opertion opcode (change)\n",
        "input_init = [0,1] # input (change)\n",
        "targets += input_init\n",
        "initialized_qubits = [i for (i,val) in enumerate(targets) if val == 1]\n",
        "initialized_qubits"
      ],
      "metadata": {
        "colab": {
          "base_uri": "https://localhost:8080/"
        },
        "id": "fd_KV-cxKnan",
        "outputId": "6f09a47b-cf88-4ce5-853f-0be9f20c7cf7"
      },
      "execution_count": 9,
      "outputs": [
        {
          "output_type": "execute_result",
          "data": {
            "text/plain": [
              "[0, 1, 2, 3, 4, 6]"
            ]
          },
          "metadata": {},
          "execution_count": 9
        }
      ]
    },
    {
      "cell_type": "code",
      "source": [
        "initialize_quantum_circuit(qc,initialized_qubits)\n",
        "qc.barrier()"
      ],
      "metadata": {
        "colab": {
          "base_uri": "https://localhost:8080/"
        },
        "id": "g2WwcGbDLmvH",
        "outputId": "4c88b729-0daf-4ec0-d3bf-0f688aa81152"
      },
      "execution_count": 10,
      "outputs": [
        {
          "output_type": "execute_result",
          "data": {
            "text/plain": [
              "<qiskit.circuit.instructionset.InstructionSet at 0x7f4e30c17820>"
            ]
          },
          "metadata": {},
          "execution_count": 10
        }
      ]
    },
    {
      "cell_type": "code",
      "source": [
        "# implement circuit \n",
        "qc.csx(0,6)\n",
        "qc.csx(5,6)\n",
        "qc.cx(0,5)\n",
        "qc.crx(- math.pi / 2,5,6)\n",
        "qc.cx(0,5)\n",
        "qc.csx(1,6)\n",
        "qc.csx(3,6)\n",
        "qc.cx(1,3)\n",
        "qc.crx(- math.pi / 2,3,6)\n",
        "qc.cx(2,6)\n",
        "qc.cx(4,6)"
      ],
      "metadata": {
        "colab": {
          "base_uri": "https://localhost:8080/"
        },
        "id": "nBOJbhdaLxan",
        "outputId": "fec5f834-94e1-4dc1-fbb0-6df88db408a6"
      },
      "execution_count": 11,
      "outputs": [
        {
          "output_type": "execute_result",
          "data": {
            "text/plain": [
              "<qiskit.circuit.instructionset.InstructionSet at 0x7f4e30c16b90>"
            ]
          },
          "metadata": {},
          "execution_count": 11
        }
      ]
    },
    {
      "cell_type": "code",
      "source": [
        "qc.barrier()"
      ],
      "metadata": {
        "colab": {
          "base_uri": "https://localhost:8080/"
        },
        "id": "lA6wfwgtN0TC",
        "outputId": "0f22e487-4686-441b-9275-992a5b40858a"
      },
      "execution_count": 12,
      "outputs": [
        {
          "output_type": "execute_result",
          "data": {
            "text/plain": [
              "<qiskit.circuit.instructionset.InstructionSet at 0x7f4e30c165f0>"
            ]
          },
          "metadata": {},
          "execution_count": 12
        }
      ]
    },
    {
      "cell_type": "code",
      "source": [
        "output_qubits = [-1]"
      ],
      "metadata": {
        "id": "BSIuwdNsOKnU"
      },
      "execution_count": 13,
      "outputs": []
    },
    {
      "cell_type": "code",
      "source": [
        "qc.measure(qr[-1],cr[0])"
      ],
      "metadata": {
        "colab": {
          "base_uri": "https://localhost:8080/"
        },
        "id": "EfmAXoohN2Nj",
        "outputId": "186dc1f9-1ddb-476b-d5d8-d198092f6860"
      },
      "execution_count": 14,
      "outputs": [
        {
          "output_type": "execute_result",
          "data": {
            "text/plain": [
              "<qiskit.circuit.instructionset.InstructionSet at 0x7f4e30c17400>"
            ]
          },
          "metadata": {},
          "execution_count": 14
        }
      ]
    },
    {
      "cell_type": "code",
      "source": [
        "qc.draw(\"mpl\")"
      ],
      "metadata": {
        "colab": {
          "base_uri": "https://localhost:8080/",
          "height": 469
        },
        "id": "TxPxQLrbOdqC",
        "outputId": "351d819b-7ca7-4ea0-cb1e-0bcaf05d8f0e"
      },
      "execution_count": 15,
      "outputs": [
        {
          "output_type": "execute_result",
          "data": {
            "text/plain": [
              "<Figure size 1392.47x702.333 with 1 Axes>"
            ],
            "image/png": "[encoded data removed]"
          },
          "metadata": {},
          "execution_count": 15
        }
      ]
    },
    {
      "cell_type": "code",
      "source": [
        "output = ideal_qc_simulation(qc,backend,1)\n",
        "output = list(output.keys())[0]\n",
        "output = reverse_output(output)\n",
        "output"
      ],
      "metadata": {
        "colab": {
          "base_uri": "https://localhost:8080/",
          "height": 35
        },
        "id": "83dNOEhbPgQG",
        "outputId": "6785ad19-3605-4e6d-aca8-59eab7f18c42"
      },
      "execution_count": 16,
      "outputs": [
        {
          "output_type": "execute_result",
          "data": {
            "text/plain": [
              "'0'"
            ],
            "application/vnd.google.colaboratory.intrinsic+json": {
              "type": "string"
            }
          },
          "metadata": {},
          "execution_count": 16
        }
      ]
    },
    {
      "cell_type": "markdown",
      "source": [
        "# Function"
      ],
      "metadata": {
        "id": "b9U9oYJnRYAO"
      }
    },
    {
      "cell_type": "code",
      "source": [
        "def quantum_alu():\n",
        "  qr = QuantumRegister(7)\n",
        "  qc = QuantumCircuit(qr)\n",
        "  # implement circuit \n",
        "  qc.csx(0,6)\n",
        "  qc.csx(5,6)\n",
        "  qc.cx(0,5)\n",
        "  qc.crx(- math.pi / 2,5,6)\n",
        "  qc.cx(0,5)\n",
        "  qc.csx(1,6)\n",
        "  qc.csx(3,6)\n",
        "  qc.cx(1,3)\n",
        "  qc.crx(- math.pi / 2,3,6)\n",
        "  qc.cx(2,6)\n",
        "  qc.cx(4,6)\n",
        "  return qc, {\n",
        "      '+':'11000',\n",
        "      '-':'11100',\n",
        "      'xor':'10000',\n",
        "      'xnor':'10100',\n",
        "      '+1':'11010',\n",
        "      '-1':'11111',\n",
        "      'neg':'00100'\n",
        "  }"
      ],
      "metadata": {
        "id": "V8yvYWTTRdNk"
      },
      "execution_count": 20,
      "outputs": []
    },
    {
      "cell_type": "code",
      "source": [
        "qc,opcodes = quantum_alu()\n",
        "opcodes"
      ],
      "metadata": {
        "colab": {
          "base_uri": "https://localhost:8080/"
        },
        "id": "-E2MECmsR8v_",
        "outputId": "c15e69b4-496a-4e89-e68d-d98bf70916d8"
      },
      "execution_count": 18,
      "outputs": [
        {
          "output_type": "execute_result",
          "data": {
            "text/plain": [
              "{'+': '11000',\n",
              " '-': '11100',\n",
              " 'xor': '10000',\n",
              " 'xnor': '10100',\n",
              " '+1': '11010',\n",
              " '-1': '11111',\n",
              " 'neg': '00100'}"
            ]
          },
          "metadata": {},
          "execution_count": 18
        }
      ]
    },
    {
      "cell_type": "code",
      "source": [
        "qc.draw(\"mpl\")"
      ],
      "metadata": {
        "colab": {
          "base_uri": "https://localhost:8080/",
          "height": 513
        },
        "id": "PwM2mOsMSHB0",
        "outputId": "c759ea00-5eae-4f2c-cf80-b5aace044d5c"
      },
      "execution_count": 19,
      "outputs": [
        {
          "output_type": "execute_result",
          "data": {
            "text/plain": [
              "<Figure size 1058.43x618.722 with 1 Axes>"
            ],
            "image/png": "[encoded data removed]"
          },
          "metadata": {},
          "execution_count": 19
        }
      ]
    }
  ]
}