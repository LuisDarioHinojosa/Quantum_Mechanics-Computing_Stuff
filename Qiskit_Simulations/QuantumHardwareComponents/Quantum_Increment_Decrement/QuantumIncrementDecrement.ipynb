{
  "nbformat": 4,
  "nbformat_minor": 0,
  "metadata": {
    "colab": {
      "provenance": []
    },
    "kernelspec": {
      "name": "python3",
      "display_name": "Python 3"
    },
    "language_info": {
      "name": "python"
    }
  },
  "cells": [
    {
      "cell_type": "code",
      "execution_count": 1,
      "metadata": {
        "colab": {
          "base_uri": "https://localhost:8080/"
        },
        "id": "heYJ5Lr_ccTf",
        "outputId": "5e6f2c62-00de-4df3-f159-72ad2f33f681"
      },
      "outputs": [
        {
          "output_type": "stream",
          "name": "stdout",
          "text": [
            "Dependencies are already installed. Skipping...\n"
          ]
        }
      ],
      "source": [
        "try:\n",
        "  print(\"Dependencies are already installed. Skipping...\")\n",
        "  from qiskit import QuantumCircuit, QuantumRegister, ClassicalRegister\n",
        "  from qiskit.visualization import plot_bloch_multivector, plot_histogram\n",
        "  from qiskit.providers.aer import QasmSimulator\n",
        "  from qiskit import execute,Aer\n",
        "  import math\n",
        "  from qiskit import transpile\n",
        "except:\n",
        "  print(\"Installing Corresponing Dependencies\")\n",
        "  ! pip install qiskit\n",
        "  ! pip install pylatexenc\n",
        "  from qiskit import QuantumCircuit, QuantumRegister, ClassicalRegister\n",
        "  from qiskit.visualization import plot_bloch_multivector, plot_histogram\n",
        "  from qiskit.providers.aer import QasmSimulator\n",
        "  from qiskit import execute,Aer\n",
        "  import math\n",
        "  from qiskit import transpile"
      ]
    },
    {
      "cell_type": "code",
      "source": [
        "# fetch backend\n",
        "backend = Aer.get_backend('statevector_simulator')"
      ],
      "metadata": {
        "id": "xELobNBKcnQM"
      },
      "execution_count": 2,
      "outputs": []
    },
    {
      "cell_type": "code",
      "source": [
        "!rm -r modules"
      ],
      "metadata": {
        "id": "T2oZ97Fycp6E"
      },
      "execution_count": 3,
      "outputs": []
    },
    {
      "cell_type": "code",
      "source": [
        "# import modules\n",
        "import requests\n",
        "from pathlib import Path\n",
        "import os\n",
        "\n",
        "\n",
        "directory = Path(\"modules\")\n",
        "\n",
        "if not os.path.exists(directory):\n",
        "  os.makedirs(directory)\n",
        "  \n",
        "helper_modules = {\n",
        "    \"quantum_hardware_circuits.py\":\"https://raw.githubusercontent.com/Q-b1t/Quantum_Mechanics-Computing_Stuff/master/modules/quantum_hardware_functions/quantum_hardware_circuits.py\",\n",
        "    \"experiment_utils.py\":\"https://raw.githubusercontent.com/Q-b1t/Quantum_Mechanics-Computing_Stuff/master/modules/utils/experiment_utils.py\"\n",
        "    }\n",
        "\n",
        "for module,raw in helper_modules.items():\n",
        "  module_file = directory / module\n",
        "  if(module_file.exists()):\n",
        "    print(f\"Module: {module_file} already exists. Skipping...\")\n",
        "  else:\n",
        "    print(f\"Downloading {module}\")\n",
        "    request = requests.get(raw)\n",
        "    with open(module_file,\"wb\") as f:\n",
        "      f.write(request.content)"
      ],
      "metadata": {
        "colab": {
          "base_uri": "https://localhost:8080/"
        },
        "id": "2jD-Xs5Rcsvg",
        "outputId": "10272891-9a18-4771-9918-9b4f77f4f486"
      },
      "execution_count": 4,
      "outputs": [
        {
          "output_type": "stream",
          "name": "stdout",
          "text": [
            "Downloading quantum_hardware_circuits.py\n",
            "Downloading experiment_utils.py\n"
          ]
        }
      ]
    },
    {
      "cell_type": "code",
      "source": [
        "from modules.experiment_utils import ideal_qc_simulation,get_target_measurement,initialize_quantum_circuit,reverse_output,make_meaurement\n"
      ],
      "metadata": {
        "id": "uvLtEU2icvoY"
      },
      "execution_count": 5,
      "outputs": []
    },
    {
      "cell_type": "code",
      "source": [
        "# instance circuit\n",
        "QUBIT_NUM = 4\n",
        "MEASUREMENT_NUM = 4"
      ],
      "metadata": {
        "id": "irCkcMhtujdb"
      },
      "execution_count": 6,
      "outputs": []
    },
    {
      "cell_type": "markdown",
      "source": [
        "# Quantum Increment "
      ],
      "metadata": {
        "id": "FZcfDGPyuZth"
      }
    },
    {
      "cell_type": "code",
      "source": [
        "qr = QuantumRegister(QUBIT_NUM)\n",
        "cr = ClassicalRegister(QUBIT_NUM)\n",
        "qc = QuantumCircuit(qr,cr)"
      ],
      "metadata": {
        "id": "Sg0WRUwfvGsJ"
      },
      "execution_count": 7,
      "outputs": []
    },
    {
      "cell_type": "code",
      "source": [
        "# initialize circuit\n",
        "target_init_qubit = [0,2,3]\n",
        "initialize_quantum_circuit(qc,target_init_qubit)\n",
        "qc.barrier()"
      ],
      "metadata": {
        "colab": {
          "base_uri": "https://localhost:8080/"
        },
        "id": "59iSVTYlvSLT",
        "outputId": "e376e27d-7918-425f-8267-369cfb125859"
      },
      "execution_count": 8,
      "outputs": [
        {
          "output_type": "execute_result",
          "data": {
            "text/plain": [
              "<qiskit.circuit.instructionset.InstructionSet at 0x7f3a5845b8e0>"
            ]
          },
          "metadata": {},
          "execution_count": 8
        }
      ]
    },
    {
      "cell_type": "code",
      "source": [
        "len(qc.qubits)"
      ],
      "metadata": {
        "colab": {
          "base_uri": "https://localhost:8080/"
        },
        "id": "PPMQ6FEdw2p2",
        "outputId": "bc6bf007-ebd7-44d8-b133-b83a8f9308e5"
      },
      "execution_count": 9,
      "outputs": [
        {
          "output_type": "execute_result",
          "data": {
            "text/plain": [
              "4"
            ]
          },
          "metadata": {},
          "execution_count": 9
        }
      ]
    },
    {
      "cell_type": "code",
      "source": [
        "# implement the quantum circuit\n",
        "for i in range(QUBIT_NUM-1):\n",
        "  qc.mct(list(reversed(qc.qubits[i+1:])),qr[i])\n",
        "\n",
        "qc.x(qc.qubits[-1])"
      ],
      "metadata": {
        "colab": {
          "base_uri": "https://localhost:8080/"
        },
        "id": "0C9mNsqtvvbC",
        "outputId": "3e229c52-089a-40cc-84ec-b021a273b571"
      },
      "execution_count": 10,
      "outputs": [
        {
          "output_type": "execute_result",
          "data": {
            "text/plain": [
              "<qiskit.circuit.instructionset.InstructionSet at 0x7f3a58458fa0>"
            ]
          },
          "metadata": {},
          "execution_count": 10
        }
      ]
    },
    {
      "cell_type": "code",
      "source": [
        "qc.barrier()"
      ],
      "metadata": {
        "colab": {
          "base_uri": "https://localhost:8080/"
        },
        "id": "5EHqd_jXypan",
        "outputId": "19e02797-6f2b-4b3d-b9ae-151542a1fe3e"
      },
      "execution_count": 11,
      "outputs": [
        {
          "output_type": "execute_result",
          "data": {
            "text/plain": [
              "<qiskit.circuit.instructionset.InstructionSet at 0x7f3a5845bc40>"
            ]
          },
          "metadata": {},
          "execution_count": 11
        }
      ]
    },
    {
      "cell_type": "code",
      "source": [
        "# make a measurement \n",
        "output_qubits = list(range(QUBIT_NUM))\n",
        "make_meaurement(qc,qr,cr,output_qubits)"
      ],
      "metadata": {
        "id": "kuj7BqtRyeSd"
      },
      "execution_count": 12,
      "outputs": []
    },
    {
      "cell_type": "code",
      "source": [
        "qc.draw(\"mpl\")"
      ],
      "metadata": {
        "colab": {
          "base_uri": "https://localhost:8080/",
          "height": 384
        },
        "id": "dDmmiaXUx5Gb",
        "outputId": "f91f292b-7065-4a1b-babc-1e3e0ff5d76c"
      },
      "execution_count": 13,
      "outputs": [
        {
          "output_type": "execute_result",
          "data": {
            "text/plain": [
              "<Figure size 1058.03x451.5 with 1 Axes>"
            ],
            "image/png": "[encoded data removed]"
          },
          "metadata": {},
          "execution_count": 13
        }
      ]
    },
    {
      "cell_type": "code",
      "source": [
        "output = ideal_qc_simulation(qc,backend,1)"
      ],
      "metadata": {
        "id": "rwazvFHRz92u"
      },
      "execution_count": 14,
      "outputs": []
    },
    {
      "cell_type": "code",
      "source": [
        "output = list(output.keys())[0]"
      ],
      "metadata": {
        "id": "vUQzl06Wz9v2"
      },
      "execution_count": 15,
      "outputs": []
    },
    {
      "cell_type": "code",
      "source": [
        "output = reverse_output(output)\n",
        "output"
      ],
      "metadata": {
        "colab": {
          "base_uri": "https://localhost:8080/",
          "height": 35
        },
        "id": "6x0zx1Ue0RVu",
        "outputId": "096f1098-f140-4a7b-d3a3-41589154c15d"
      },
      "execution_count": 16,
      "outputs": [
        {
          "output_type": "execute_result",
          "data": {
            "text/plain": [
              "'1100'"
            ],
            "application/vnd.google.colaboratory.intrinsic+json": {
              "type": "string"
            }
          },
          "metadata": {},
          "execution_count": 16
        }
      ]
    },
    {
      "cell_type": "markdown",
      "source": [
        "# Quantum Decrement"
      ],
      "metadata": {
        "id": "8fS8IYD61M9H"
      }
    },
    {
      "cell_type": "code",
      "source": [
        "qr = QuantumRegister(QUBIT_NUM)\n",
        "cr = ClassicalRegister(QUBIT_NUM)\n",
        "qc = QuantumCircuit(qr,cr)"
      ],
      "metadata": {
        "id": "52d7pm2G1RUu"
      },
      "execution_count": 17,
      "outputs": []
    },
    {
      "cell_type": "code",
      "source": [
        "# initialize circuit\n",
        "target_init_qubit = [0,2,3]\n",
        "initialize_quantum_circuit(qc,target_init_qubit)\n",
        "qc.barrier()"
      ],
      "metadata": {
        "colab": {
          "base_uri": "https://localhost:8080/"
        },
        "id": "qE5IzK9S1kz9",
        "outputId": "fe06023b-173c-4d4c-8b51-1e7d11c5414c"
      },
      "execution_count": 18,
      "outputs": [
        {
          "output_type": "execute_result",
          "data": {
            "text/plain": [
              "<qiskit.circuit.instructionset.InstructionSet at 0x7f3a57f47a60>"
            ]
          },
          "metadata": {},
          "execution_count": 18
        }
      ]
    },
    {
      "cell_type": "code",
      "source": [
        "# implement the quantum circuit\n",
        "qc.x(qc.qubits[-1])\n",
        "for i in reversed(range(1,QUBIT_NUM)):\n",
        "  qc.mct(list(reversed(qc.qubits[i:])),qr[i-1])"
      ],
      "metadata": {
        "id": "BhPnA_K21krl"
      },
      "execution_count": 19,
      "outputs": []
    },
    {
      "cell_type": "code",
      "source": [
        "qc.barrier()"
      ],
      "metadata": {
        "colab": {
          "base_uri": "https://localhost:8080/"
        },
        "id": "LD3kgoYf4oD7",
        "outputId": "72a99d2e-0b52-457f-8ff2-f4c4bf434b0e"
      },
      "execution_count": 20,
      "outputs": [
        {
          "output_type": "execute_result",
          "data": {
            "text/plain": [
              "<qiskit.circuit.instructionset.InstructionSet at 0x7f3a57f477c0>"
            ]
          },
          "metadata": {},
          "execution_count": 20
        }
      ]
    },
    {
      "cell_type": "code",
      "source": [
        "# make a measurement \n",
        "output_qubits = list(range(QUBIT_NUM))\n",
        "make_meaurement(qc,qr,cr,output_qubits)"
      ],
      "metadata": {
        "id": "COlPXrRO6K3c"
      },
      "execution_count": 21,
      "outputs": []
    },
    {
      "cell_type": "code",
      "source": [
        "qc.draw(\"mpl\")"
      ],
      "metadata": {
        "colab": {
          "base_uri": "https://localhost:8080/",
          "height": 384
        },
        "id": "O5u1Ifas6Q8J",
        "outputId": "cba18558-a2f8-4bc2-a4ff-7c90246b5e42"
      },
      "execution_count": 22,
      "outputs": [
        {
          "output_type": "execute_result",
          "data": {
            "text/plain": [
              "<Figure size 1058.43x451.5 with 1 Axes>"
            ],
            "image/png": "[encoded data removed]"
          },
          "metadata": {},
          "execution_count": 22
        }
      ]
    },
    {
      "cell_type": "code",
      "source": [
        "output = ideal_qc_simulation(qc,backend,1)"
      ],
      "metadata": {
        "id": "s8FGERRK6VJi"
      },
      "execution_count": 23,
      "outputs": []
    },
    {
      "cell_type": "code",
      "source": [
        "output = list(output.keys())[0]"
      ],
      "metadata": {
        "id": "JwQoL5jd6VF6"
      },
      "execution_count": 24,
      "outputs": []
    },
    {
      "cell_type": "code",
      "source": [
        "output = reverse_output(output)\n",
        "output"
      ],
      "metadata": {
        "colab": {
          "base_uri": "https://localhost:8080/",
          "height": 35
        },
        "id": "tFWm5Eit6ZAt",
        "outputId": "ac9e1c78-385e-41e2-8feb-49d0df0b1a81"
      },
      "execution_count": 25,
      "outputs": [
        {
          "output_type": "execute_result",
          "data": {
            "text/plain": [
              "'1010'"
            ],
            "application/vnd.google.colaboratory.intrinsic+json": {
              "type": "string"
            }
          },
          "metadata": {},
          "execution_count": 25
        }
      ]
    },
    {
      "cell_type": "markdown",
      "source": [
        "# Implement Functions"
      ],
      "metadata": {
        "id": "ICkh6uxl6x4e"
      }
    },
    {
      "cell_type": "code",
      "source": [
        "def increment_circuit(num_qubits):\n",
        "  # instance quantum circuit\n",
        "  qr = QuantumRegister(num_qubits)\n",
        "  qc = QuantumCircuit(qr)\n",
        "\n",
        "  # implement the quantum circuit\n",
        "  for i in range(num_qubits-1):\n",
        "    qc.mct(list(reversed(qc.qubits[i+1:])),qr[i])\n",
        "\n",
        "  qc.x(qc.qubits[-1])\n",
        "\n",
        "  return qc\n",
        "\n",
        "def decrement_circuit(num_qubits):\n",
        "  # instance quantum circuit\n",
        "  qr = QuantumRegister(num_qubits)\n",
        "  qc = QuantumCircuit(qr)\n",
        "\n",
        "  # implement the quantum circuit\n",
        "  qc.x(qc.qubits[-1])\n",
        "  \n",
        "  for i in reversed(range(1,num_qubits)):\n",
        "    qc.mct(list(reversed(qc.qubits[i:])),qr[i-1])\n",
        "\n",
        "  return qc"
      ],
      "metadata": {
        "id": "t3RI9gR4609i"
      },
      "execution_count": 26,
      "outputs": []
    },
    {
      "cell_type": "code",
      "source": [
        "qr = QuantumRegister(8)\n",
        "cr = ClassicalRegister(8)\n",
        "qc = QuantumCircuit(qr,cr)"
      ],
      "metadata": {
        "id": "qyyEB3yuBX0n"
      },
      "execution_count": 27,
      "outputs": []
    },
    {
      "cell_type": "code",
      "source": [
        "qubits = [0,1,2,3,4,5]\n",
        "initialize_quantum_circuit(qc,qubits)"
      ],
      "metadata": {
        "id": "cn3K8AtiBfX1"
      },
      "execution_count": 28,
      "outputs": []
    },
    {
      "cell_type": "code",
      "source": [
        "qc.barrier()"
      ],
      "metadata": {
        "colab": {
          "base_uri": "https://localhost:8080/"
        },
        "id": "1fArGPJIBs-X",
        "outputId": "7818b657-9cc5-4378-b5f2-7479d51371c1"
      },
      "execution_count": 29,
      "outputs": [
        {
          "output_type": "execute_result",
          "data": {
            "text/plain": [
              "<qiskit.circuit.instructionset.InstructionSet at 0x7f3a5845bdc0>"
            ]
          },
          "metadata": {},
          "execution_count": 29
        }
      ]
    },
    {
      "cell_type": "code",
      "source": [
        "increment = increment_circuit(8)\n",
        "qc.append(increment,[0,1,2,3,4,5,6,7])"
      ],
      "metadata": {
        "colab": {
          "base_uri": "https://localhost:8080/"
        },
        "id": "9j1m8AE9BRRg",
        "outputId": "4417efe7-f79e-44eb-d20d-3384db61d8df"
      },
      "execution_count": 30,
      "outputs": [
        {
          "output_type": "execute_result",
          "data": {
            "text/plain": [
              "<qiskit.circuit.instructionset.InstructionSet at 0x7f3a57e44d60>"
            ]
          },
          "metadata": {},
          "execution_count": 30
        }
      ]
    },
    {
      "cell_type": "code",
      "source": [
        "qc.barrier()"
      ],
      "metadata": {
        "colab": {
          "base_uri": "https://localhost:8080/"
        },
        "id": "E7_rAV1aC92L",
        "outputId": "e933ff0f-bbfd-4d70-9781-3527f30ad96a"
      },
      "execution_count": 31,
      "outputs": [
        {
          "output_type": "execute_result",
          "data": {
            "text/plain": [
              "<qiskit.circuit.instructionset.InstructionSet at 0x7f3a57f0b370>"
            ]
          },
          "metadata": {},
          "execution_count": 31
        }
      ]
    },
    {
      "cell_type": "code",
      "source": [
        "# make a measurement \n",
        "output_qubits = list(range(8))\n",
        "make_meaurement(qc,qr,cr,output_qubits)"
      ],
      "metadata": {
        "id": "KB1p97pNCy1x"
      },
      "execution_count": 32,
      "outputs": []
    },
    {
      "cell_type": "code",
      "source": [
        "qc.decompose().draw(\"mpl\")"
      ],
      "metadata": {
        "colab": {
          "base_uri": "https://localhost:8080/",
          "height": 559
        },
        "id": "QzFehobXBzC9",
        "outputId": "bf06a4b4-f836-497a-fff6-2da628b2d6bb"
      },
      "execution_count": 33,
      "outputs": [
        {
          "output_type": "execute_result",
          "data": {
            "text/plain": [
              "<Figure size 1745.55x785.944 with 1 Axes>"
            ],
            "image/png": "[encoded data removed]"
          },
          "metadata": {},
          "execution_count": 33
        }
      ]
    },
    {
      "cell_type": "code",
      "source": [
        "output = ideal_qc_simulation(qc,backend,1)\n",
        "output = list(output.keys())[0]\n",
        "output = reverse_output(output)\n",
        "output"
      ],
      "metadata": {
        "colab": {
          "base_uri": "https://localhost:8080/",
          "height": 35
        },
        "id": "tbgMM0Z7By7A",
        "outputId": "7a789821-b5b4-4d53-d8a0-b74ec79301cd"
      },
      "execution_count": 34,
      "outputs": [
        {
          "output_type": "execute_result",
          "data": {
            "text/plain": [
              "'11111101'"
            ],
            "application/vnd.google.colaboratory.intrinsic+json": {
              "type": "string"
            }
          },
          "metadata": {},
          "execution_count": 34
        }
      ]
    }
  ]
}