{
  "nbformat": 4,
  "nbformat_minor": 0,
  "metadata": {
    "colab": {
      "provenance": []
    },
    "kernelspec": {
      "name": "python3",
      "display_name": "Python 3"
    },
    "language_info": {
      "name": "python"
    }
  },
  "cells": [
    {
      "cell_type": "code",
      "execution_count": 1,
      "metadata": {
        "colab": {
          "base_uri": "https://localhost:8080/"
        },
        "id": "33lngQOrpy8P",
        "outputId": "31e38c4b-2ae5-4792-b75c-20379b943a0b"
      },
      "outputs": [
        {
          "output_type": "stream",
          "name": "stdout",
          "text": [
            "Dependencies are already installed. Skipping...\n"
          ]
        }
      ],
      "source": [
        "try:\n",
        "  print(\"Dependencies are already installed. Skipping...\")\n",
        "  from qiskit import QuantumCircuit, QuantumRegister, ClassicalRegister\n",
        "  from qiskit.visualization import plot_bloch_multivector, plot_histogram\n",
        "  from qiskit.providers.aer import QasmSimulator\n",
        "  from qiskit import execute,Aer\n",
        "  import math\n",
        "  from qiskit import transpile\n",
        "except:\n",
        "  print(\"Installing Corresponing Dependencies\")\n",
        "  ! pip install qiskit\n",
        "  ! pip install pylatexenc\n",
        "  from qiskit import QuantumCircuit, QuantumRegister, ClassicalRegister\n",
        "  from qiskit.visualization import plot_bloch_multivector, plot_histogram\n",
        "  from qiskit.providers.aer import QasmSimulator\n",
        "  from qiskit import execute,Aer\n",
        "  import math\n",
        "  from qiskit import transpile"
      ]
    },
    {
      "cell_type": "code",
      "source": [
        "!rm -r modules"
      ],
      "metadata": {
        "id": "tVP4qkMWAB8o"
      },
      "execution_count": 2,
      "outputs": []
    },
    {
      "cell_type": "code",
      "source": [
        "# fetch backend\n",
        "backend = Aer.get_backend('statevector_simulator')"
      ],
      "metadata": {
        "id": "CQyPNgm3p-ok"
      },
      "execution_count": 3,
      "outputs": []
    },
    {
      "cell_type": "code",
      "source": [
        "# import modules\n",
        "import requests\n",
        "from pathlib import Path\n",
        "import os\n",
        "\n",
        "\n",
        "directory = Path(\"modules\")\n",
        "\n",
        "if not os.path.exists(directory):\n",
        "  os.makedirs(directory)\n",
        "  \n",
        "helper_modules = {\n",
        "    \"quantum_hardware_circuits.py\":\"https://raw.githubusercontent.com/Q-b1t/Quantum_Mechanics-Computing_Stuff/master/modules/quantum_hardware_functions/quantum_hardware_circuits.py\",\n",
        "    \"experiment_utils.py\":\"https://raw.githubusercontent.com/Q-b1t/Quantum_Mechanics-Computing_Stuff/master/modules/utils/experiment_utils.py\"\n",
        "    }\n",
        "\n",
        "for module,raw in helper_modules.items():\n",
        "  module_file = directory / module\n",
        "  if(module_file.exists()):\n",
        "    print(f\"Module: {module_file} already exists. Skipping...\")\n",
        "  else:\n",
        "    print(f\"Downloading {module}\")\n",
        "    request = requests.get(raw)\n",
        "    with open(module_file,\"wb\") as f:\n",
        "      f.write(request.content)"
      ],
      "metadata": {
        "colab": {
          "base_uri": "https://localhost:8080/"
        },
        "id": "L-u8jQGFqB-W",
        "outputId": "625e764e-fc3c-4e82-b506-8e15aa1130c3"
      },
      "execution_count": 4,
      "outputs": [
        {
          "output_type": "stream",
          "name": "stdout",
          "text": [
            "Downloading quantum_hardware_circuits.py\n",
            "Downloading experiment_utils.py\n"
          ]
        }
      ]
    },
    {
      "cell_type": "code",
      "source": [
        "from modules.experiment_utils import ideal_qc_simulation"
      ],
      "metadata": {
        "id": "ytuxOoHL_hqK"
      },
      "execution_count": 5,
      "outputs": []
    },
    {
      "cell_type": "code",
      "source": [
        "def get_target_measurement(output,target_qubits):\n",
        "  filtered_output = list()\n",
        "  for q in target_qubits:\n",
        "    filtered_output.append(output[q])\n",
        "  return ''.join(filtered_output)\n",
        "\n",
        "def initialize_quantum_circuit(qc,target_qubits,hadamard = False):\n",
        "  for q in target_qubits:\n",
        "    if hadamard:\n",
        "      qc.h(q)\n",
        "    else:\n",
        "      qc.x(q)\n",
        "\n",
        "def reverse_output(output):\n",
        "  rev = [output[q] for q in reversed(range(len(output)))]\n",
        "  return ''.join(rev)\n",
        "\n",
        "def make_meaurement(qc,qr,cr,output_qubits):\n",
        "  for q in output_qubits:\n",
        "    qc.measure(qr[q],cr[q])"
      ],
      "metadata": {
        "id": "eqL2ynMlA-If"
      },
      "execution_count": 6,
      "outputs": []
    },
    {
      "cell_type": "markdown",
      "source": [
        "# Quantum Multiplier Circuit Implementation\n",
        "The implementation consist of a basic achitecture of two times one inputs with a three bit output."
      ],
      "metadata": {
        "id": "zu1uXOBwq00-"
      }
    },
    {
      "cell_type": "code",
      "source": [
        "# number of qubits in the circuit\n",
        "num_qubits = 10"
      ],
      "metadata": {
        "id": "8CT4BCokqy0g"
      },
      "execution_count": 7,
      "outputs": []
    },
    {
      "cell_type": "code",
      "source": [
        "# instance the quantum circuit\n",
        "qr = QuantumRegister(num_qubits)\n",
        "cr = ClassicalRegister(num_qubits)\n",
        "qc = QuantumCircuit(qr,cr)"
      ],
      "metadata": {
        "id": "-iO52e8GstAt"
      },
      "execution_count": 8,
      "outputs": []
    },
    {
      "cell_type": "code",
      "source": [
        "target_qubits = [0,1,2]\n",
        "initialize_quantum_circuit(qc,target_qubits)"
      ],
      "metadata": {
        "id": "J7Qx4wjO4EtP"
      },
      "execution_count": 9,
      "outputs": []
    },
    {
      "cell_type": "code",
      "source": [
        "# add the tofoli gates\n",
        "qc.ccx(qr[0],qr[1],qr[3])\n",
        "qc.ccx(qr[0],qr[2],qr[7])"
      ],
      "metadata": {
        "colab": {
          "base_uri": "https://localhost:8080/"
        },
        "id": "VsJjuLbys998",
        "outputId": "639a7614-69d3-4877-c4e1-9261182d6edf"
      },
      "execution_count": 10,
      "outputs": [
        {
          "output_type": "execute_result",
          "data": {
            "text/plain": [
              "<qiskit.circuit.instructionset.InstructionSet at 0x7f7c32290460>"
            ]
          },
          "metadata": {},
          "execution_count": 10
        }
      ]
    },
    {
      "cell_type": "code",
      "source": [
        "from modules.quantum_hardware_circuits import qfa"
      ],
      "metadata": {
        "id": "zA7lxYu-tabT"
      },
      "execution_count": 11,
      "outputs": []
    },
    {
      "cell_type": "code",
      "source": [
        "# create two instanced of a quantum full adder circuit\n",
        "qfa_1 = qfa()\n",
        "qfa_2 = qfa()"
      ],
      "metadata": {
        "id": "rKwK2YXOtjp1"
      },
      "execution_count": 12,
      "outputs": []
    },
    {
      "cell_type": "code",
      "source": [
        "# add the adders to the circuit in the corresponding position\n",
        "qc.append(qfa_1,[qr[3],qr[4],qr[5],qr[6]])\n",
        "qc.append(qfa_2,[qr[7],qr[8],qr[6],qr[9]])"
      ],
      "metadata": {
        "colab": {
          "base_uri": "https://localhost:8080/"
        },
        "id": "XVnYLTWwtf43",
        "outputId": "4b568c7a-67ee-42cb-cae0-2c73bee66441"
      },
      "execution_count": 13,
      "outputs": [
        {
          "output_type": "execute_result",
          "data": {
            "text/plain": [
              "<qiskit.circuit.instructionset.InstructionSet at 0x7f7c31f73a30>"
            ]
          },
          "metadata": {},
          "execution_count": 13
        }
      ]
    },
    {
      "cell_type": "code",
      "source": [
        "# measure the qubits \n",
        "output_qubits = [5,6,9]\n",
        "for q in output_qubits:\n",
        "  qc.measure(qr[q],cr[q])"
      ],
      "metadata": {
        "id": "hUWDAUIzuwBs"
      },
      "execution_count": 14,
      "outputs": []
    },
    {
      "cell_type": "code",
      "source": [
        "qc.draw(\"mpl\")"
      ],
      "metadata": {
        "colab": {
          "base_uri": "https://localhost:8080/",
          "height": 770
        },
        "id": "Lqx6qY8JwFZ9",
        "outputId": "f4d78bba-a1d8-4209-a96e-8028fa7d5631"
      },
      "execution_count": 15,
      "outputs": [
        {
          "output_type": "execute_result",
          "data": {
            "text/plain": [
              "<Figure size 974.414x953.167 with 1 Axes>"
            ],
            "image/png": "[encoded data removed]"
          },
          "metadata": {},
          "execution_count": 15
        }
      ]
    },
    {
      "cell_type": "code",
      "source": [
        "# get the mearurements\n",
        "measurements_counts = ideal_qc_simulation(qc,backend,1)"
      ],
      "metadata": {
        "id": "4u3jZTDgwisf"
      },
      "execution_count": 16,
      "outputs": []
    },
    {
      "cell_type": "code",
      "source": [
        "output = list(measurements_counts.keys())[0]\n",
        "output"
      ],
      "metadata": {
        "colab": {
          "base_uri": "https://localhost:8080/",
          "height": 35
        },
        "id": "gZ7pmffaxP6j",
        "outputId": "68d80ec1-350c-47cd-b68e-6b50e9b5e5b1"
      },
      "execution_count": 17,
      "outputs": [
        {
          "output_type": "execute_result",
          "data": {
            "text/plain": [
              "'0001100000'"
            ],
            "application/vnd.google.colaboratory.intrinsic+json": {
              "type": "string"
            }
          },
          "metadata": {},
          "execution_count": 17
        }
      ]
    },
    {
      "cell_type": "code",
      "source": [
        "reversed_output = reverse_output(output)\n",
        "reversed_output"
      ],
      "metadata": {
        "colab": {
          "base_uri": "https://localhost:8080/",
          "height": 35
        },
        "id": "ZmTIha-i86iO",
        "outputId": "ef9775ab-e7f4-4c08-eb36-7f77222dde9d"
      },
      "execution_count": 18,
      "outputs": [
        {
          "output_type": "execute_result",
          "data": {
            "text/plain": [
              "'0000011000'"
            ],
            "application/vnd.google.colaboratory.intrinsic+json": {
              "type": "string"
            }
          },
          "metadata": {},
          "execution_count": 18
        }
      ]
    },
    {
      "cell_type": "code",
      "source": [
        "filtered_output = get_target_measurement(reversed_output,output_qubits)\n",
        "filtered_output"
      ],
      "metadata": {
        "colab": {
          "base_uri": "https://localhost:8080/",
          "height": 35
        },
        "id": "6kSxvJhN5NEa",
        "outputId": "c3914b62-9f12-4e3e-ff3a-432dac0c6234"
      },
      "execution_count": 19,
      "outputs": [
        {
          "output_type": "execute_result",
          "data": {
            "text/plain": [
              "'110'"
            ],
            "application/vnd.google.colaboratory.intrinsic+json": {
              "type": "string"
            }
          },
          "metadata": {},
          "execution_count": 19
        }
      ]
    }
  ]
}